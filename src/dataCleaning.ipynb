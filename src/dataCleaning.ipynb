{
 "cells": [
  {
   "cell_type": "code",
   "execution_count": 70,
   "metadata": {},
   "outputs": [],
   "source": [
    "import pandas as pd"
   ]
  },
  {
   "cell_type": "code",
   "execution_count": 71,
   "metadata": {},
   "outputs": [],
   "source": [
    "def cleanData(df,substance):\n",
    "    df = df.drop(columns=['historianTagnummer'])\n",
    "    df.rename(columns={'hstWaarde': substance + 'Value'}, inplace=True)\n",
    "    df[substance+'Value'] = df[substance + 'Value'].astype('float')\n",
    "    df['datumBeginMeting'] = pd.to_datetime(df['datumBeginMeting'])\n",
    "    df['StartDate'] = df['datumBeginMeting'].dt.date\n",
    "    df['StartTime'] = df['datumBeginMeting'].dt.time\n",
    "    df['datumEindeMeting'] = pd.to_datetime(df['datumEindeMeting'])\n",
    "    df['endDate'] = df['datumEindeMeting'].dt.date\n",
    "    df['endTime'] = df['datumEindeMeting'].dt.time\n",
    "    df = df.drop(columns=['datumBeginMeting','datumEindeMeting'])\n",
    "    df.to_parquet('../data/cleanedData/'+ substance +'.parquet')\n",
    "    pass"
   ]
  },
  {
   "cell_type": "code",
   "execution_count": 72,
   "metadata": {},
   "outputs": [],
   "source": [
    "data_files = [\n",
    "    ('../data/Ammonium_measurements.parquet', 'ammonium'),\n",
    "    ('../data/Nitrate_measurements.parquet', 'nitrate'),\n",
    "    ('../data/Oxygen_A.parquet', 'oxygenA'),\n",
    "    ('../data/Oxygen_B.parquet', 'oxygenB'),\n",
    "    ('../data/Phosphate_measurements.parquet', 'phosphate')\n",
    "]\n",
    "\n",
    "for file_path, var_name in data_files:\n",
    "    df = pd.read_parquet(file_path)\n",
    "    cleanData(df, var_name)"
   ]
  },
  {
   "cell_type": "code",
   "execution_count": 73,
   "metadata": {},
   "outputs": [
    {
     "name": "stdout",
     "output_type": "stream",
     "text": [
      "<class 'pandas.core.frame.DataFrame'>\n",
      "Int64Index: 525469 entries, 0 to 44639\n",
      "Data columns (total 5 columns):\n",
      " #   Column         Non-Null Count   Dtype \n",
      "---  ------         --------------   ----- \n",
      " 0   ammoniumValue  525469 non-null  object\n",
      " 1   StartDate      525469 non-null  object\n",
      " 2   StartTime      525469 non-null  object\n",
      " 3   endDate        525469 non-null  object\n",
      " 4   endTime        525469 non-null  object\n",
      "dtypes: object(5)\n",
      "memory usage: 24.1+ MB\n"
     ]
    }
   ],
   "source": [
    "ammonium = pd.read_parquet('../data/cleanedData/ammonium.parquet')\n",
    "ammonium.info()"
   ]
  },
  {
   "cell_type": "code",
   "execution_count": 74,
   "metadata": {},
   "outputs": [
    {
     "data": {
      "text/html": [
       "<div>\n",
       "<style scoped>\n",
       "    .dataframe tbody tr th:only-of-type {\n",
       "        vertical-align: middle;\n",
       "    }\n",
       "\n",
       "    .dataframe tbody tr th {\n",
       "        vertical-align: top;\n",
       "    }\n",
       "\n",
       "    .dataframe thead th {\n",
       "        text-align: right;\n",
       "    }\n",
       "</style>\n",
       "<table border=\"1\" class=\"dataframe\">\n",
       "  <thead>\n",
       "    <tr style=\"text-align: right;\">\n",
       "      <th></th>\n",
       "      <th>ammoniumValue</th>\n",
       "      <th>StartDate</th>\n",
       "      <th>StartTime</th>\n",
       "      <th>endDate</th>\n",
       "      <th>endTime</th>\n",
       "    </tr>\n",
       "  </thead>\n",
       "  <tbody>\n",
       "    <tr>\n",
       "      <th>count</th>\n",
       "      <td>525469</td>\n",
       "      <td>525469</td>\n",
       "      <td>525469</td>\n",
       "      <td>525469</td>\n",
       "      <td>525469</td>\n",
       "    </tr>\n",
       "    <tr>\n",
       "      <th>unique</th>\n",
       "      <td>17419</td>\n",
       "      <td>365</td>\n",
       "      <td>1440</td>\n",
       "      <td>366</td>\n",
       "      <td>1440</td>\n",
       "    </tr>\n",
       "    <tr>\n",
       "      <th>top</th>\n",
       "      <td>0.682</td>\n",
       "      <td>2021-10-31</td>\n",
       "      <td>00:00:00</td>\n",
       "      <td>2021-10-31</td>\n",
       "      <td>00:01:00</td>\n",
       "    </tr>\n",
       "    <tr>\n",
       "      <th>freq</th>\n",
       "      <td>142</td>\n",
       "      <td>1500</td>\n",
       "      <td>365</td>\n",
       "      <td>1500</td>\n",
       "      <td>365</td>\n",
       "    </tr>\n",
       "  </tbody>\n",
       "</table>\n",
       "</div>"
      ],
      "text/plain": [
       "       ammoniumValue   StartDate StartTime     endDate   endTime\n",
       "count         525469      525469    525469      525469    525469\n",
       "unique         17419         365      1440         366      1440\n",
       "top            0.682  2021-10-31  00:00:00  2021-10-31  00:01:00\n",
       "freq             142        1500       365        1500       365"
      ]
     },
     "execution_count": 74,
     "metadata": {},
     "output_type": "execute_result"
    }
   ],
   "source": [
    "ammonium.describe()"
   ]
  }
 ],
 "metadata": {
  "kernelspec": {
   "display_name": "Python 3",
   "language": "python",
   "name": "python3"
  },
  "language_info": {
   "codemirror_mode": {
    "name": "ipython",
    "version": 3
   },
   "file_extension": ".py",
   "mimetype": "text/x-python",
   "name": "python",
   "nbconvert_exporter": "python",
   "pygments_lexer": "ipython3",
   "version": "3.11.8"
  }
 },
 "nbformat": 4,
 "nbformat_minor": 2
}
