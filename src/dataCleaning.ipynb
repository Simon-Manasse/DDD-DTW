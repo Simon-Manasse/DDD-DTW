{
 "cells": [
  {
   "cell_type": "code",
   "execution_count": 2,
   "metadata": {},
   "outputs": [],
   "source": [
    "import pandas as pd"
   ]
  },
  {
   "cell_type": "code",
   "execution_count": null,
   "metadata": {},
   "outputs": [],
   "source": [
    "def cleanData(df,substance):\n",
    "    df = df.drop(columns=['historianTagnummer'])\n",
    "    df.rename(columns={'hstWaarde': substance + 'Value'}, inplace=True)\n",
    "    df['datumBeginMeting'] = pd.to_datetime(df['datumBeginMeting'])\n",
    "    df['StartDate'] = df['datumBeginMeting'].dt.date\n",
    "    df['StartTime'] = df['datumBeginMeting'].dt.time\n",
    "    df['datumEindeMeting'] = pd.to_datetime(df['datumEindeMeting'])\n",
    "    df['endDate'] = df['datumEindeMeting'].dt.date\n",
    "    df['endTime'] = df['datumEindeMeting'].dt.time\n",
    "    df = df.drop(columns=['datumBeginMeting','datumEindeMeting'])\n",
    "    df.to_parquet('../data/cleanedData/'+ substance +'.parquet', index=False)\n",
    "    pass"
   ]
  },
  {
   "cell_type": "code",
   "execution_count": null,
   "metadata": {},
   "outputs": [],
   "source": [
    "data_files = [\n",
    "    ('../data/Ammonium_measurements.parquet', 'ammonium'),\n",
    "    ('../data/Nitrate_measurements.parquet', 'nitrate'),\n",
    "    ('../data/Oxygen_A.parquet', 'oxygenA'),\n",
    "    ('../data/Oxygen_B.parquet', 'oxygenB'),\n",
    "    ('../data/Phosphate_measurements.parquet', 'phosphate')\n",
    "]\n",
    "\n",
    "for file_path, var_name in data_files:\n",
    "    df = pd.read_parquet(file_path)\n",
    "    cleanData(df, var_name)"
   ]
  },
  {
   "cell_type": "code",
   "execution_count": 31,
   "metadata": {},
   "outputs": [
    {
     "name": "stderr",
     "output_type": "stream",
     "text": [
      "/tmp/ipykernel_50136/4160926816.py:9: DtypeWarning: Columns (1) have mixed types. Specify dtype option on import or set low_memory=False.\n",
      "  asd = pd.read_csv('../data/cleanedData/total.csv')\n"
     ]
    }
   ],
   "source": [
    "with open('../data/Total_influent_flow_WWTP_Ede_2021_minute_data.csv', 'r') as file:\n",
    "    lines = file.readlines()\n",
    "\n",
    "with open('../data/cleanedData/total.csv', 'w') as file:\n",
    "    for line in lines:\n",
    "        modified_line = line.replace(';60000', '').replace(';',',')\n",
    "        file.write(modified_line)\n",
    "\n",
    "finalTotal = pd.read_csv('../data/cleanedData/total.csv')\n",
    "finalTotal['DateTime'] = pd.to_datetime(finalTotal['DateTime'])\n",
    "finalTotal['Date'] = finalTotal['DateTime'].dt.date\n",
    "finalTotal['Time'] = finalTotal['DateTime'].dt.time\n",
    "finalTotal = finalTotal.drop(columns=['DateTime'])\n",
    "finalTotal.to_csv('../data/cleanedData/total.csv')"
   ]
  },
  {
   "cell_type": "code",
   "execution_count": null,
   "metadata": {},
   "outputs": [],
   "source": []
  }
 ],
 "metadata": {
  "kernelspec": {
   "display_name": "Python 3",
   "language": "python",
   "name": "python3"
  },
  "language_info": {
   "codemirror_mode": {
    "name": "ipython",
    "version": 3
   },
   "file_extension": ".py",
   "mimetype": "text/x-python",
   "name": "python",
   "nbconvert_exporter": "python",
   "pygments_lexer": "ipython3",
   "version": "3.11.8"
  }
 },
 "nbformat": 4,
 "nbformat_minor": 2
}
