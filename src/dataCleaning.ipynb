{
 "cells": [
  {
   "cell_type": "code",
   "execution_count": null,
   "metadata": {},
   "outputs": [],
   "source": [
    "import pandas as pd\n",
    "from datetime import timedelta\n",
    "import sys"
   ]
  },
  {
   "cell_type": "code",
   "execution_count": null,
   "metadata": {},
   "outputs": [],
   "source": [
    "def cleanData(df,substance):\n",
    "    df = df.drop(columns=['historianTagnummer'])\n",
    "    df.rename(columns={'hstWaarde': substance + 'Value'}, inplace=True)\n",
    "    df[substance + 'Value'] = df[substance + 'Value'].astype(float)\n",
    "    # finalTotal = finalTotal.drop(columns=['DateTime'])\n",
    "    df = df.drop(columns=['datumBeginMeting'])\n",
    "    # df['datumBeginMeting'] = pd.to_datetime(df['datumBeginMeting'])\n",
    "    # df['StartDate'] = df['datumBeginMeting'].dt.date\n",
    "    # df['StartTime'] = df['datumBeginMeting'].dt.time\n",
    "    df['datumEindeMeting'] = pd.to_datetime(df['datumEindeMeting'])\n",
    "    # df['endDate'] = df['datumEindeMeting'].dt.date\n",
    "    # df['endTime'] = df['datumEindeMeting'].dt.time\n",
    "    # df = df.drop(columns=['datumBeginMeting','datumEindeMeting'])\n",
    "    df.to_parquet('../data/cleanedData/'+ substance +'.parquet', index=False)\n",
    "    pass"
   ]
  },
  {
   "cell_type": "code",
   "execution_count": null,
   "metadata": {},
   "outputs": [],
   "source": [
    "data_files = [\n",
    "    ('../data/Ammonium_measurements.parquet', 'ammonium'),\n",
    "    ('../data/Nitrate_measurements.parquet', 'nitrate'),\n",
    "    ('../data/Oxygen_A.parquet', 'oxygenA'),\n",
    "    ('../data/Oxygen_B.parquet', 'oxygenB'),\n",
    "    ('../data/Phosphate_measurements.parquet', 'phosphate')\n",
    "]\n",
    "\n",
    "for file_path, var_name in data_files:\n",
    "    df = pd.read_parquet(file_path)\n",
    "    cleanData(df, var_name)"
   ]
  },
  {
   "cell_type": "code",
   "execution_count": null,
   "metadata": {},
   "outputs": [],
   "source": [
    "with open('../data/Total_influent_flow_WWTP_Ede_2021_minute_data.csv', 'r') as file:\n",
    "    lines = file.readlines()\n",
    "\n",
    "with open('../data/cleanedData/total.csv', 'w') as file:\n",
    "    for line in lines:\n",
    "        modified_line = line.replace(';60000', '').replace(';',',')\n",
    "        file.write(modified_line)\n",
    "\n",
    "finalTotal = pd.read_csv('../data/cleanedData/total.csv')\n",
    "finalTotal['DateTime'] = pd.to_datetime(finalTotal['DateTime'], dayfirst=True)\n",
    "# finalTotal['Date'] = finalTotal['DateTime'].dt.date\n",
    "# finalTotal['Time'] = finalTotal['DateTime'].dt.time\n",
    "# finalTotal = finalTotal.drop(columns=['DateTime'])\n",
    "finalTotal.to_csv('../data/cleanedData/total.csv', index=False)"
   ]
  },
  {
   "cell_type": "code",
   "execution_count": null,
   "metadata": {},
   "outputs": [],
   "source": [
    "ammonium = pd.read_parquet('../data/cleanedData/ammonium.parquet')\n",
    "ammonium.head()\n",
    "\n",
    "duplicates = ammonium[ammonium.duplicated(subset='datumEindeMeting', keep=False)].index.tolist()\n",
    "# print(ammonium['datumEindeMeting'] == '2021-10-31 02:00:00')\n",
    "march = ammonium.loc[ammonium['datumEindeMeting'] == '2021-03-28 03:00:00']\n",
    "print(march.index)\n",
    "print(duplicates)\n",
    "ammonium.iloc[[436247,436248]]\n",
    "#ammonium.iloc[[123849, 123850]]\n",
    "#ammonium.iloc[[436366, 436367]]"
   ]
  },
  {
   "cell_type": "code",
   "execution_count": null,
   "metadata": {},
   "outputs": [],
   "source": [
    "startTime = march.index.values[0]\n",
    "endTime = duplicates[-1]\n",
    "\n",
    "for i in range(startTime, endTime + 1):\n",
    "    if i < (endTime - len(duplicates)):\n",
    "        ammonium.loc[i, 'datumEindeMeting'] -= timedelta(hours=1)\n",
    "    elif not ((i % 2) == 0):\n",
    "        ammonium.loc[i, 'datumEindeMeting'] -= timedelta(hours=1)\n",
    "\n",
    "duplicat = ammonium[ammonium.duplicated(subset='datumEindeMeting', keep=False)].index.tolist()\n",
    "print(len(duplicat))\n",
    "ammonium.iloc[[123849, 123850]]\n"
   ]
  },
  {
   "cell_type": "code",
   "execution_count": null,
   "metadata": {},
   "outputs": [],
   "source": [
    "pd.set_option('display.max_rows', None)\n",
    "print(duplicat)\n",
    "print(len(duplicates))\n",
    "# lol = ammonium.loc[ammonium['datumEindeMeting'] == '2021-10-31 02:00:00']\n",
    "# print(lol)\n",
    "#ammonium.iloc[123849:436368]\n",
    "sorted_ammonium = ammonium.iloc[123849:436370].sort_values(by='datumEindeMeting').reset_index()\n",
    "print(sorted_ammonium)\n",
    "#ammonium = ammonium.sort_values(by='datumEindeMeting')\n",
    "#ammonium[436367]\n"
   ]
  }
 ],
 "metadata": {
  "kernelspec": {
   "display_name": "Python 3",
   "language": "python",
   "name": "python3"
  },
  "language_info": {
   "codemirror_mode": {
    "name": "ipython",
    "version": 3
   },
   "file_extension": ".py",
   "mimetype": "text/x-python",
   "name": "python",
   "nbconvert_exporter": "python",
   "pygments_lexer": "ipython3",
   "version": "3.11.5"
  }
 },
 "nbformat": 4,
 "nbformat_minor": 2
}
