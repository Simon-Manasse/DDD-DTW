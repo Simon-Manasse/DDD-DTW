{
 "cells": [
  {
   "cell_type": "code",
   "execution_count": 1,
   "metadata": {},
   "outputs": [],
   "source": [
    "import pandas as pd"
   ]
  },
  {
   "cell_type": "code",
   "execution_count": 27,
   "metadata": {},
   "outputs": [],
   "source": [
    "def cleanData(df,substance):\n",
    "    df = df.drop(columns=['historianTagnummer'])\n",
    "    df.rename(columns={'hstWaarde': substance + 'Value'}, inplace=True)\n",
    "    df[substance + 'Value'] = df[substance + 'Value'].astype(float)\n",
    "    # finalTotal = finalTotal.drop(columns=['DateTime'])\n",
    "    df = df.drop(columns=['datumBeginMeting'])\n",
    "    # df['datumBeginMeting'] = pd.to_datetime(df['datumBeginMeting'])\n",
    "    # df['StartDate'] = df['datumBeginMeting'].dt.date\n",
    "    # df['StartTime'] = df['datumBeginMeting'].dt.time\n",
    "    df['datumEindeMeting'] = pd.to_datetime(df['datumEindeMeting'])\n",
    "    # df['endDate'] = df['datumEindeMeting'].dt.date\n",
    "    # df['endTime'] = df['datumEindeMeting'].dt.time\n",
    "    # df = df.drop(columns=['datumBeginMeting','datumEindeMeting'])\n",
    "    df.to_parquet('../data/cleanedData/'+ substance +'.parquet', index=False)\n",
    "    pass"
   ]
  },
  {
   "cell_type": "code",
   "execution_count": 29,
   "metadata": {},
   "outputs": [],
   "source": [
    "data_files = [\n",
    "    ('../data/Ammonium_measurements.parquet', 'ammonium'),\n",
    "    ('../data/Nitrate_measurements.parquet', 'nitrate'),\n",
    "    ('../data/Oxygen_A.parquet', 'oxygenA'),\n",
    "    ('../data/Oxygen_B.parquet', 'oxygenB'),\n",
    "    ('../data/Phosphate_measurements.parquet', 'phosphate')\n",
    "]\n",
    "\n",
    "for file_path, var_name in data_files:\n",
    "    df = pd.read_parquet(file_path)\n",
    "    cleanData(df, var_name)"
   ]
  },
  {
   "cell_type": "code",
   "execution_count": 4,
   "metadata": {},
   "outputs": [
    {
     "name": "stderr",
     "output_type": "stream",
     "text": [
      "C:\\Users\\jessi\\AppData\\Local\\Temp\\ipykernel_17332\\3708884311.py:9: DtypeWarning: Columns (1) have mixed types. Specify dtype option on import or set low_memory=False.\n",
      "  finalTotal = pd.read_csv('../data/cleanedData/total.csv')\n"
     ]
    }
   ],
   "source": [
    "with open('../data/Total_influent_flow_WWTP_Ede_2021_minute_data.csv', 'r') as file:\n",
    "    lines = file.readlines()\n",
    "\n",
    "with open('../data/cleanedData/total.csv', 'w') as file:\n",
    "    for line in lines:\n",
    "        modified_line = line.replace(';60000', '').replace(';',',')\n",
    "        file.write(modified_line)\n",
    "\n",
    "finalTotal = pd.read_csv('../data/cleanedData/total.csv')\n",
    "finalTotal['DateTime'] = pd.to_datetime(finalTotal['DateTime'], dayfirst=True)\n",
    "# finalTotal['Date'] = finalTotal['DateTime'].dt.date\n",
    "# finalTotal['Time'] = finalTotal['DateTime'].dt.time\n",
    "# finalTotal = finalTotal.drop(columns=['DateTime'])\n",
    "finalTotal.to_csv('../data/cleanedData/total.csv', index=False)"
   ]
  },
  {
   "cell_type": "code",
   "execution_count": 89,
   "metadata": {},
   "outputs": [
    {
     "data": {
      "text/html": [
       "<div>\n",
       "<style scoped>\n",
       "    .dataframe tbody tr th:only-of-type {\n",
       "        vertical-align: middle;\n",
       "    }\n",
       "\n",
       "    .dataframe tbody tr th {\n",
       "        vertical-align: top;\n",
       "    }\n",
       "\n",
       "    .dataframe thead th {\n",
       "        text-align: right;\n",
       "    }\n",
       "</style>\n",
       "<table border=\"1\" class=\"dataframe\">\n",
       "  <thead>\n",
       "    <tr style=\"text-align: right;\">\n",
       "      <th></th>\n",
       "      <th>ammoniumValue</th>\n",
       "      <th>datumEindeMeting</th>\n",
       "    </tr>\n",
       "  </thead>\n",
       "  <tbody>\n",
       "    <tr>\n",
       "      <th>436247</th>\n",
       "      <td>1.001</td>\n",
       "      <td>2021-10-31 01:59:00</td>\n",
       "    </tr>\n",
       "    <tr>\n",
       "      <th>436249</th>\n",
       "      <td>0.296</td>\n",
       "      <td>2021-10-31 02:00:00</td>\n",
       "    </tr>\n",
       "  </tbody>\n",
       "</table>\n",
       "</div>"
      ],
      "text/plain": [
       "        ammoniumValue    datumEindeMeting\n",
       "436247          1.001 2021-10-31 01:59:00\n",
       "436249          0.296 2021-10-31 02:00:00"
      ]
     },
     "execution_count": 89,
     "metadata": {},
     "output_type": "execute_result"
    }
   ],
   "source": [
    "ammonium = pd.read_parquet('../data/cleanedData/ammonium.parquet')\n",
    "ammonium.head()\n",
    "\n",
    "duplicates = ammonium[ammonium.duplicated(subset='datumEindeMeting', keep=False)].index.tolist()\n",
    "# print(ammonium['datumEindeMeting'] == '2021-10-31 02:00:00')\n",
    "march = ammonium.loc[ammonium['datumEindeMeting'] == '2021-03-28 03:00:00']\n",
    "#print(march.index)\n",
    "#print(duplicates)\n",
    "ammonium.iloc[[436247,436249]]\n",
    "#ammonium.iloc[[436248: 436369]]\n",
    "#ammonium.iloc[[123850, 123851]]"
   ]
  },
  {
   "cell_type": "code",
   "execution_count": 96,
   "metadata": {},
   "outputs": [
    {
     "data": {
      "text/html": [
       "<div>\n",
       "<style scoped>\n",
       "    .dataframe tbody tr th:only-of-type {\n",
       "        vertical-align: middle;\n",
       "    }\n",
       "\n",
       "    .dataframe tbody tr th {\n",
       "        vertical-align: top;\n",
       "    }\n",
       "\n",
       "    .dataframe thead th {\n",
       "        text-align: right;\n",
       "    }\n",
       "</style>\n",
       "<table border=\"1\" class=\"dataframe\">\n",
       "  <thead>\n",
       "    <tr style=\"text-align: right;\">\n",
       "      <th></th>\n",
       "      <th>ammoniumValue</th>\n",
       "      <th>datumEindeMeting</th>\n",
       "    </tr>\n",
       "  </thead>\n",
       "  <tbody>\n",
       "    <tr>\n",
       "      <th>123849</th>\n",
       "      <td>3.509</td>\n",
       "      <td>2021-03-28 01:59:00</td>\n",
       "    </tr>\n",
       "    <tr>\n",
       "      <th>123850</th>\n",
       "      <td>3.520</td>\n",
       "      <td>2021-03-28 00:00:00</td>\n",
       "    </tr>\n",
       "  </tbody>\n",
       "</table>\n",
       "</div>"
      ],
      "text/plain": [
       "        ammoniumValue    datumEindeMeting\n",
       "123849          3.509 2021-03-28 01:59:00\n",
       "123850          3.520 2021-03-28 00:00:00"
      ]
     },
     "execution_count": 96,
     "metadata": {},
     "output_type": "execute_result"
    }
   ],
   "source": [
    "from datetime import timedelta\n",
    "startTime = march.index.values[0]\n",
    "endTime = duplicates[-1]\n",
    "\n",
    "# check =  ammonium['datumEindeMeting'][123] - timedelta(hours=1)\n",
    "# print(check)\n",
    "\n",
    "# for i in range(startTime, endTime):\n",
    "#     if(i < (endTime-119)):\n",
    "#         ammonium['datumEindeMeting'][i] = ammonium['datumEindeMeting'][i] - timedelta(hours=1)\n",
    "#     # elif(not(i % 2 == 0)):\n",
    "#     #     ammonium['datumEindeMeting'][i] = ammonium['datumEindeMeting'][i] - timedelta(hours=1)\n",
    "#     elif(i > (endTime-119) and not(i % 2 == 0)):\n",
    "#         ammonium['datumEindeMeting'][i] = ammonium['datumEindeMeting'][i] - timedelta(hours=1)\n",
    "\n",
    "for i in range(startTime, endTime):\n",
    "    if i < (endTime - 119):\n",
    "        ammonium.loc[i, 'datumEindeMeting'] -= timedelta(hours=1)\n",
    "    elif i > (endTime - 119) and not (i % 2 == 0):\n",
    "        ammonium.loc[i, 'datumEindeMeting'] -= timedelta(hours=1)\n",
    "\n",
    "ammonium.iloc[[123849, 123850]]\n"
   ]
  }
 ],
 "metadata": {
  "kernelspec": {
   "display_name": "Python 3",
   "language": "python",
   "name": "python3"
  },
  "language_info": {
   "codemirror_mode": {
    "name": "ipython",
    "version": 3
   },
   "file_extension": ".py",
   "mimetype": "text/x-python",
   "name": "python",
   "nbconvert_exporter": "python",
   "pygments_lexer": "ipython3",
   "version": "3.11.5"
  }
 },
 "nbformat": 4,
 "nbformat_minor": 2
}
