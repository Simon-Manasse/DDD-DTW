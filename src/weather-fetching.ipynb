{
 "cells": [
  {
   "cell_type": "code",
   "execution_count": 15,
   "metadata": {},
   "outputs": [],
   "source": [
    "import knmi\n",
    "import pandas as pd"
   ]
  },
  {
   "cell_type": "markdown",
   "metadata": {},
   "source": [
    "Get the station that we will use "
   ]
  },
  {
   "cell_type": "code",
   "execution_count": 11,
   "metadata": {},
   "outputs": [
    {
     "data": {
      "text/plain": [
       "Station(number=375, longitude=5.707, latitude=51.659, altitude=22.0, name='VOLKEL')"
      ]
     },
     "execution_count": 11,
     "metadata": {},
     "output_type": "execute_result"
    }
   ],
   "source": [
    "knmi.stations[375]\n",
    "#we will use 375"
   ]
  },
  {
   "cell_type": "markdown",
   "metadata": {},
   "source": [
    "Get the data that we will use "
   ]
  },
  {
   "cell_type": "code",
   "execution_count": 12,
   "metadata": {},
   "outputs": [
    {
     "data": {
      "text/plain": [
       "'Daily precipitation amount (in 0.1 mm) (-1 for <0.05 mm)'"
      ]
     },
     "execution_count": 12,
     "metadata": {},
     "output_type": "execute_result"
    }
   ],
   "source": [
    "knmi.variables[\"RH\"]\n",
    "# we will use RH for perticipation "
   ]
  },
  {
   "cell_type": "markdown",
   "metadata": {},
   "source": [
    "Get the data "
   ]
  },
  {
   "cell_type": "code",
   "execution_count": 13,
   "metadata": {},
   "outputs": [
    {
     "name": "stdout",
     "output_type": "stream",
     "text": [
      "<class 'pandas.core.frame.DataFrame'>\n",
      "DatetimeIndex: 366 entries, 2021-01-01 00:00:00+01:00 to 2022-01-01 00:00:00+01:00\n",
      "Data columns (total 40 columns):\n",
      " #   Column  Non-Null Count  Dtype  \n",
      "---  ------  --------------  -----  \n",
      " 0   STN     366 non-null    int64  \n",
      " 1   DDVEC   366 non-null    int64  \n",
      " 2   FHVEC   366 non-null    int64  \n",
      " 3   FG      366 non-null    int64  \n",
      " 4   FHX     366 non-null    int64  \n",
      " 5   FHXH    366 non-null    int64  \n",
      " 6   FHN     366 non-null    int64  \n",
      " 7   FHNH    366 non-null    int64  \n",
      " 8   FXX     366 non-null    int64  \n",
      " 9   FXXH    366 non-null    int64  \n",
      " 10  TG      366 non-null    int64  \n",
      " 11  TN      366 non-null    int64  \n",
      " 12  TNH     366 non-null    int64  \n",
      " 13  TX      366 non-null    int64  \n",
      " 14  TXH     366 non-null    int64  \n",
      " 15  T10N    356 non-null    float64\n",
      " 16  T10NH   356 non-null    float64\n",
      " 17  SQ      366 non-null    int64  \n",
      " 18  SP      366 non-null    int64  \n",
      " 19  Q       366 non-null    int64  \n",
      " 20  DR      366 non-null    int64  \n",
      " 21  RH      366 non-null    int64  \n",
      " 22  RHX     366 non-null    int64  \n",
      " 23  RHXH    366 non-null    int64  \n",
      " 24  PG      366 non-null    int64  \n",
      " 25  PX      366 non-null    int64  \n",
      " 26  PXH     366 non-null    int64  \n",
      " 27  PN      366 non-null    int64  \n",
      " 28  PNH     366 non-null    int64  \n",
      " 29  VVN     366 non-null    int64  \n",
      " 30  VVNH    366 non-null    int64  \n",
      " 31  VVX     366 non-null    int64  \n",
      " 32  VVXH    366 non-null    int64  \n",
      " 33  NG      366 non-null    int64  \n",
      " 34  UG      366 non-null    int64  \n",
      " 35  UX      366 non-null    int64  \n",
      " 36  UXH     366 non-null    int64  \n",
      " 37  UN      366 non-null    int64  \n",
      " 38  UNH     366 non-null    int64  \n",
      " 39  EV24    366 non-null    int64  \n",
      "dtypes: float64(2), int64(38)\n",
      "memory usage: 117.2 KB\n"
     ]
    },
    {
     "data": {
      "text/html": [
       "<div>\n",
       "<style scoped>\n",
       "    .dataframe tbody tr th:only-of-type {\n",
       "        vertical-align: middle;\n",
       "    }\n",
       "\n",
       "    .dataframe tbody tr th {\n",
       "        vertical-align: top;\n",
       "    }\n",
       "\n",
       "    .dataframe thead th {\n",
       "        text-align: right;\n",
       "    }\n",
       "</style>\n",
       "<table border=\"1\" class=\"dataframe\">\n",
       "  <thead>\n",
       "    <tr style=\"text-align: right;\">\n",
       "      <th></th>\n",
       "      <th>STN</th>\n",
       "      <th>DDVEC</th>\n",
       "      <th>FHVEC</th>\n",
       "      <th>FG</th>\n",
       "      <th>FHX</th>\n",
       "      <th>FHXH</th>\n",
       "      <th>FHN</th>\n",
       "      <th>FHNH</th>\n",
       "      <th>FXX</th>\n",
       "      <th>FXXH</th>\n",
       "      <th>...</th>\n",
       "      <th>VVNH</th>\n",
       "      <th>VVX</th>\n",
       "      <th>VVXH</th>\n",
       "      <th>NG</th>\n",
       "      <th>UG</th>\n",
       "      <th>UX</th>\n",
       "      <th>UXH</th>\n",
       "      <th>UN</th>\n",
       "      <th>UNH</th>\n",
       "      <th>EV24</th>\n",
       "    </tr>\n",
       "    <tr>\n",
       "      <th>YYYYMMDD</th>\n",
       "      <th></th>\n",
       "      <th></th>\n",
       "      <th></th>\n",
       "      <th></th>\n",
       "      <th></th>\n",
       "      <th></th>\n",
       "      <th></th>\n",
       "      <th></th>\n",
       "      <th></th>\n",
       "      <th></th>\n",
       "      <th></th>\n",
       "      <th></th>\n",
       "      <th></th>\n",
       "      <th></th>\n",
       "      <th></th>\n",
       "      <th></th>\n",
       "      <th></th>\n",
       "      <th></th>\n",
       "      <th></th>\n",
       "      <th></th>\n",
       "      <th></th>\n",
       "    </tr>\n",
       "  </thead>\n",
       "  <tbody>\n",
       "    <tr>\n",
       "      <th>2021-01-01 00:00:00+01:00</th>\n",
       "      <td>375</td>\n",
       "      <td>231</td>\n",
       "      <td>29</td>\n",
       "      <td>30</td>\n",
       "      <td>40</td>\n",
       "      <td>13</td>\n",
       "      <td>10</td>\n",
       "      <td>1</td>\n",
       "      <td>60</td>\n",
       "      <td>14</td>\n",
       "      <td>...</td>\n",
       "      <td>4</td>\n",
       "      <td>70</td>\n",
       "      <td>12</td>\n",
       "      <td>8</td>\n",
       "      <td>93</td>\n",
       "      <td>98</td>\n",
       "      <td>3</td>\n",
       "      <td>82</td>\n",
       "      <td>12</td>\n",
       "      <td>3</td>\n",
       "    </tr>\n",
       "    <tr>\n",
       "      <th>2021-01-02 00:00:00+01:00</th>\n",
       "      <td>375</td>\n",
       "      <td>201</td>\n",
       "      <td>20</td>\n",
       "      <td>25</td>\n",
       "      <td>40</td>\n",
       "      <td>1</td>\n",
       "      <td>10</td>\n",
       "      <td>17</td>\n",
       "      <td>60</td>\n",
       "      <td>3</td>\n",
       "      <td>...</td>\n",
       "      <td>18</td>\n",
       "      <td>58</td>\n",
       "      <td>3</td>\n",
       "      <td>8</td>\n",
       "      <td>95</td>\n",
       "      <td>97</td>\n",
       "      <td>17</td>\n",
       "      <td>92</td>\n",
       "      <td>4</td>\n",
       "      <td>1</td>\n",
       "    </tr>\n",
       "    <tr>\n",
       "      <th>2021-01-03 00:00:00+01:00</th>\n",
       "      <td>375</td>\n",
       "      <td>34</td>\n",
       "      <td>34</td>\n",
       "      <td>35</td>\n",
       "      <td>50</td>\n",
       "      <td>12</td>\n",
       "      <td>20</td>\n",
       "      <td>1</td>\n",
       "      <td>110</td>\n",
       "      <td>14</td>\n",
       "      <td>...</td>\n",
       "      <td>1</td>\n",
       "      <td>75</td>\n",
       "      <td>12</td>\n",
       "      <td>8</td>\n",
       "      <td>85</td>\n",
       "      <td>96</td>\n",
       "      <td>1</td>\n",
       "      <td>74</td>\n",
       "      <td>14</td>\n",
       "      <td>1</td>\n",
       "    </tr>\n",
       "    <tr>\n",
       "      <th>2021-01-04 00:00:00+01:00</th>\n",
       "      <td>375</td>\n",
       "      <td>45</td>\n",
       "      <td>49</td>\n",
       "      <td>50</td>\n",
       "      <td>70</td>\n",
       "      <td>10</td>\n",
       "      <td>40</td>\n",
       "      <td>1</td>\n",
       "      <td>110</td>\n",
       "      <td>9</td>\n",
       "      <td>...</td>\n",
       "      <td>3</td>\n",
       "      <td>70</td>\n",
       "      <td>4</td>\n",
       "      <td>8</td>\n",
       "      <td>88</td>\n",
       "      <td>93</td>\n",
       "      <td>23</td>\n",
       "      <td>83</td>\n",
       "      <td>17</td>\n",
       "      <td>1</td>\n",
       "    </tr>\n",
       "    <tr>\n",
       "      <th>2021-01-05 00:00:00+01:00</th>\n",
       "      <td>375</td>\n",
       "      <td>46</td>\n",
       "      <td>41</td>\n",
       "      <td>41</td>\n",
       "      <td>50</td>\n",
       "      <td>1</td>\n",
       "      <td>30</td>\n",
       "      <td>21</td>\n",
       "      <td>90</td>\n",
       "      <td>1</td>\n",
       "      <td>...</td>\n",
       "      <td>17</td>\n",
       "      <td>70</td>\n",
       "      <td>1</td>\n",
       "      <td>8</td>\n",
       "      <td>88</td>\n",
       "      <td>90</td>\n",
       "      <td>23</td>\n",
       "      <td>85</td>\n",
       "      <td>12</td>\n",
       "      <td>1</td>\n",
       "    </tr>\n",
       "  </tbody>\n",
       "</table>\n",
       "<p>5 rows × 40 columns</p>\n",
       "</div>"
      ],
      "text/plain": [
       "                           STN  DDVEC  FHVEC  FG  FHX  FHXH  FHN  FHNH  FXX  \\\n",
       "YYYYMMDD                                                                      \n",
       "2021-01-01 00:00:00+01:00  375    231     29  30   40    13   10     1   60   \n",
       "2021-01-02 00:00:00+01:00  375    201     20  25   40     1   10    17   60   \n",
       "2021-01-03 00:00:00+01:00  375     34     34  35   50    12   20     1  110   \n",
       "2021-01-04 00:00:00+01:00  375     45     49  50   70    10   40     1  110   \n",
       "2021-01-05 00:00:00+01:00  375     46     41  41   50     1   30    21   90   \n",
       "\n",
       "                           FXXH  ...  VVNH  VVX  VVXH  NG  UG  UX  UXH  UN  \\\n",
       "YYYYMMDD                         ...                                         \n",
       "2021-01-01 00:00:00+01:00    14  ...     4   70    12   8  93  98    3  82   \n",
       "2021-01-02 00:00:00+01:00     3  ...    18   58     3   8  95  97   17  92   \n",
       "2021-01-03 00:00:00+01:00    14  ...     1   75    12   8  85  96    1  74   \n",
       "2021-01-04 00:00:00+01:00     9  ...     3   70     4   8  88  93   23  83   \n",
       "2021-01-05 00:00:00+01:00     1  ...    17   70     1   8  88  90   23  85   \n",
       "\n",
       "                           UNH  EV24  \n",
       "YYYYMMDD                              \n",
       "2021-01-01 00:00:00+01:00   12     3  \n",
       "2021-01-02 00:00:00+01:00    4     1  \n",
       "2021-01-03 00:00:00+01:00   14     1  \n",
       "2021-01-04 00:00:00+01:00   17     1  \n",
       "2021-01-05 00:00:00+01:00   12     1  \n",
       "\n",
       "[5 rows x 40 columns]"
      ]
     },
     "execution_count": 13,
     "metadata": {},
     "output_type": "execute_result"
    }
   ],
   "source": [
    "df = knmi.get_day_data_dataframe(stations=[375], start='20210101', end=\"20220101\")\n",
    "df.info()\n",
    "df.head()"
   ]
  },
  {
   "cell_type": "markdown",
   "metadata": {},
   "source": [
    "Clean up the data"
   ]
  },
  {
   "cell_type": "code",
   "execution_count": 14,
   "metadata": {},
   "outputs": [
    {
     "data": {
      "text/plain": [
       "DatetimeIndex(['2021-01-01 00:00:00+01:00', '2021-01-02 00:00:00+01:00',\n",
       "               '2021-01-03 00:00:00+01:00', '2021-01-04 00:00:00+01:00',\n",
       "               '2021-01-05 00:00:00+01:00', '2021-01-06 00:00:00+01:00',\n",
       "               '2021-01-07 00:00:00+01:00', '2021-01-08 00:00:00+01:00',\n",
       "               '2021-01-09 00:00:00+01:00', '2021-01-10 00:00:00+01:00',\n",
       "               ...\n",
       "               '2021-12-23 00:00:00+01:00', '2021-12-24 00:00:00+01:00',\n",
       "               '2021-12-25 00:00:00+01:00', '2021-12-26 00:00:00+01:00',\n",
       "               '2021-12-27 00:00:00+01:00', '2021-12-28 00:00:00+01:00',\n",
       "               '2021-12-29 00:00:00+01:00', '2021-12-30 00:00:00+01:00',\n",
       "               '2021-12-31 00:00:00+01:00', '2022-01-01 00:00:00+01:00'],\n",
       "              dtype='datetime64[ns, Europe/Amsterdam]', name='YYYYMMDD', length=366, freq=None)"
      ]
     },
     "execution_count": 14,
     "metadata": {},
     "output_type": "execute_result"
    }
   ],
   "source": [
    "perticipation_values = \n",
    "perticipation_values "
   ]
  }
 ],
 "metadata": {
  "kernelspec": {
   "display_name": "Python 3",
   "language": "python",
   "name": "python3"
  },
  "language_info": {
   "codemirror_mode": {
    "name": "ipython",
    "version": 3
   },
   "file_extension": ".py",
   "mimetype": "text/x-python",
   "name": "python",
   "nbconvert_exporter": "python",
   "pygments_lexer": "ipython3",
   "version": "3.12.2"
  }
 },
 "nbformat": 4,
 "nbformat_minor": 2
}
