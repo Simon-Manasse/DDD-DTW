{
 "cells": [
  {
   "cell_type": "code",
   "execution_count": null,
   "metadata": {},
   "outputs": [],
   "source": [
    "import pandas as pd\n",
    "import matplotlib.pyplot as plt\n",
    "oxygenA = pd.read_parquet('../data/Data/Oxygen_A.parquet')\n",
    "oxygenA['hstWaarde'] = oxygenA['hstWaarde'].astype(float)\n",
    "oxygenA['datumEindeMeting'] = pd.to_datetime(oxygenA['datumEindeMeting'])"
   ]
  },
  {
   "cell_type": "code",
   "execution_count": null,
   "metadata": {},
   "outputs": [],
   "source": [
    "\n",
    "plt.figure(figsize=(20,10))\n",
    "plt.plot(oxygenA['datumEindeMeting'],oxygenA['hstWaarde'])"
   ]
  },
  {
   "cell_type": "code",
   "execution_count": null,
   "metadata": {},
   "outputs": [],
   "source": [
    "oxygenB = pd.read_parquet('../data/Data/Oxygen_B.parquet')\n",
    "oxygenB['hstWaarde'] = oxygenB['hstWaarde'].astype(float)\n",
    "oxygenB['datumEindeMeting'] = pd.to_datetime(oxygenB['datumEindeMeting'])"
   ]
  },
  {
   "cell_type": "code",
   "execution_count": null,
   "metadata": {},
   "outputs": [],
   "source": [
    "\n",
    "plt.figure(figsize=(20,10))\n",
    "plt.plot(oxygenB['datumEindeMeting'],oxygenB['hstWaarde'])"
   ]
  }
 ],
 "metadata": {
  "kernelspec": {
   "display_name": "Python 3",
   "language": "python",
   "name": "python3"
  },
  "language_info": {
   "codemirror_mode": {
    "name": "ipython",
    "version": 3
   },
   "file_extension": ".py",
   "mimetype": "text/x-python",
   "name": "python",
   "nbconvert_exporter": "python",
   "pygments_lexer": "ipython3",
   "version": "3.12.3"
  }
 },
 "nbformat": 4,
 "nbformat_minor": 2
}
