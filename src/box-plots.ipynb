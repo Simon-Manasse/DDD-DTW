{
 "cells": [
  {
   "cell_type": "code",
   "execution_count": null,
   "metadata": {},
   "outputs": [],
   "source": [
    "import pandas as pd"
   ]
  },
  {
   "cell_type": "code",
   "execution_count": null,
   "metadata": {},
   "outputs": [],
   "source": [
    "Nitr = pd.read_parquet('../data/cleanedData/nitrate.parquet')\n",
    "Ammo = pd.read_parquet('../data/cleanedData/ammonium.parquet')\n",
    "oxyA = pd.read_parquet('../data/cleanedData/oxygenA.parquet')\n",
    "oxyB = pd.read_parquet('../data/cleanedData/oxygenB.parquet')\n",
    "phos = pd.read_parquet('../data/cleanedData/phosphate.parquet')\n",
    "total = pd.read_csv('../data/cleanedData/total.csv')"
   ]
  },
  {
   "cell_type": "code",
   "execution_count": null,
   "metadata": {},
   "outputs": [],
   "source": [
    "\n",
    "import matplotlib.pyplot as plt\n",
    "\n",
    "plt.figure(figsize=(10, 6))\n",
    "\n",
    "plt.boxplot(oxyA['oxygenAValue'], labels=['OxygenA'])\n",
    "\n",
    "plt.title('Box Plots of OxygenA')\n",
    "plt.ylabel('Value')\n",
    "plt.show()"
   ]
  },
  {
   "cell_type": "code",
   "execution_count": null,
   "metadata": {},
   "outputs": [],
   "source": [
    "import matplotlib.pyplot as plt\n",
    "\n",
    "plt.figure(figsize=(10, 6))\n",
    "\n",
    "plt.boxplot(oxyB['oxygenBValue'], labels=['OxygenB'])\n",
    "\n",
    "plt.title('Box Plots of OxygenB')\n",
    "plt.ylabel('Value')\n",
    "plt.show()"
   ]
  },
  {
   "cell_type": "code",
   "execution_count": null,
   "metadata": {},
   "outputs": [],
   "source": [
    "import matplotlib.pyplot as plt\n",
    "\n",
    "plt.figure(figsize=(10, 6))\n",
    "\n",
    "plt.boxplot(Nitr['nitrateValue'], labels=['Nitrate'])\n",
    "\n",
    "plt.title('Box Plots of Nitrate')\n",
    "plt.ylabel('Value')\n",
    "plt.show()"
   ]
  },
  {
   "cell_type": "code",
   "execution_count": null,
   "metadata": {},
   "outputs": [],
   "source": [
    "import matplotlib.pyplot as plt\n",
    "\n",
    "plt.figure(figsize=(10, 6))\n",
    "\n",
    "plt.boxplot(Ammo['ammoniumValue'], labels=['Ammonium'])\n",
    "\n",
    "plt.title('Box Plots of Ammonium')\n",
    "plt.ylabel('Value')\n",
    "plt.show()"
   ]
  },
  {
   "cell_type": "code",
   "execution_count": null,
   "metadata": {},
   "outputs": [],
   "source": [
    "import matplotlib.pyplot as plt\n",
    "\n",
    "plt.figure(figsize=(10, 6))\n",
    "\n",
    "plt.boxplot(phos['phosphateValue'], labels=['Phosphate'])\n",
    "\n",
    "plt.title('Box Plots of Phosphate')\n",
    "plt.ylabel('Value')\n",
    "plt.show()"
   ]
  },
  {
   "cell_type": "code",
   "execution_count": null,
   "metadata": {},
   "outputs": [],
   "source": [
    "plt.figure(figsize=(12, 8))  \n",
    "\n",
    "plt.subplot(2, 3, 1)  \n",
    "plt.hist(oxyA['oxygenAValue'], bins='auto', label='OxygenA')  \n",
    "plt.title('OxygenA Distribution')\n",
    "plt.ylabel('Number of OxygenA values')\n",
    "\n",
    "plt.subplot(2, 3, 2)\n",
    "plt.hist(oxyB['oxygenBValue'], bins='auto', label='OxygenB')\n",
    "plt.title('OxygenB Distribution')\n",
    "plt.ylabel('Number of OxygenB values')\n",
    "\n",
    "plt.subplot(2, 3, 3)\n",
    "plt.hist(Nitr['nitrateValue'], bins='auto', label='Nitrate')\n",
    "plt.title('Nitrate Distribution')\n",
    "plt.ylabel('Number of Nitrate values')\n",
    "\n",
    "plt.subplot(2, 3, 4)\n",
    "plt.hist(Ammo['ammoniumValue'], bins='auto', label='Ammonium')\n",
    "plt.title('Ammonium distribution')\n",
    "plt.ylabel('Number of Ammonium values')\n",
    "\n",
    "plt.subplot(2, 3, 5)\n",
    "plt.hist(phos['phosphateValue'], bins='auto', label='Phosphate')\n",
    "plt.title('Phosphate distribution')\n",
    "plt.ylabel('Number of Phosphate values')\n",
    "\n",
    "plt.tight_layout() \n",
    "plt.show()\n",
    "\n"
   ]
  },
  {
   "cell_type": "code",
   "execution_count": null,
   "metadata": {},
   "outputs": [],
   "source": [
    "plt.figure(figsize=(12, 8))  \n",
    "oxyA['oxygenAValue'].hist() \n",
    "plt.ylabel('Number of OxygenA values')\n",
    "plt.xlabel('OxygenA value')\n",
    "\n",
    "plt.grid(False)\n",
    "plt.show()"
   ]
  },
  {
   "cell_type": "code",
   "execution_count": null,
   "metadata": {},
   "outputs": [],
   "source": [
    "plt.figure(figsize=(12, 8))  \n",
    "oxyB['oxygenBValue'].hist()\n",
    "plt.ylabel('Number of OxygenB values')\n",
    "plt.xlabel('OxygenB value')\n",
    "\n",
    "plt.grid(False)\n",
    "plt.show()"
   ]
  },
  {
   "cell_type": "code",
   "execution_count": null,
   "metadata": {},
   "outputs": [],
   "source": [
    "plt.figure(figsize=(12, 8))  \n",
    "Nitr['nitrateValue'].hist()\n",
    "plt.ylabel('Number of Nitrate values')\n",
    "plt.xlabel('Nitrate value')\n",
    "\n",
    "plt.grid(False)\n",
    "plt.show()"
   ]
  },
  {
   "cell_type": "code",
   "execution_count": null,
   "metadata": {},
   "outputs": [],
   "source": [
    "plt.figure(figsize=(12, 8))  \n",
    "Ammo['ammoniumValue'].hist()\n",
    "plt.ylabel('Number of Ammonium values')\n",
    "plt.xlabel('Ammonium value')\n",
    "\n",
    "plt.grid(False)\n",
    "plt.show()"
   ]
  },
  {
   "cell_type": "code",
   "execution_count": null,
   "metadata": {},
   "outputs": [],
   "source": [
    "plt.figure(figsize=(12, 8))  \n",
    "phos['phosphateValue'].hist()\n",
    "plt.ylabel('Number of Phosphate values')\n",
    "plt.xlabel('Phosphate value')\n",
    "plt.grid(False)\n",
    "plt.show()"
   ]
  }
 ],
 "metadata": {
  "kernelspec": {
   "display_name": "base",
   "language": "python",
   "name": "python3"
  },
  "language_info": {
   "codemirror_mode": {
    "name": "ipython",
    "version": 3
   },
   "file_extension": ".py",
   "mimetype": "text/x-python",
   "name": "python",
   "nbconvert_exporter": "python",
   "pygments_lexer": "ipython3",
   "version": "3.11.5"
  }
 },
 "nbformat": 4,
 "nbformat_minor": 2
}
