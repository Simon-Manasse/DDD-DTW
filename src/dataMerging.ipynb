{
 "cells": [
  {
   "cell_type": "code",
   "execution_count": null,
   "metadata": {},
   "outputs": [],
   "source": [
    "import pandas as pd\n",
    "from functools import reduce\n",
    "import random"
   ]
  },
  {
   "cell_type": "code",
   "execution_count": null,
   "metadata": {},
   "outputs": [],
   "source": [
    "water = pd.read_parquet('../data/shiftedDates/total.parquet')\n",
    "duplicates = water[water.duplicated(subset='measurementDate', keep=False)].index.tolist()\n",
    "water.iloc[duplicates]"
   ]
  },
  {
   "cell_type": "code",
   "execution_count": null,
   "metadata": {},
   "outputs": [],
   "source": [
    "file_paths = [\n",
    "              '../data/shiftedDates/oxygenAB.parquet',\n",
    "              '../data/shiftedDates/cleanedNitrate.parquet',\n",
    "              '../data/shiftedDates/phosphate.parquet',\n",
    "              '../data/shiftedDates/cleanedAmmonium.parquet',\n",
    "              '../data/shiftedDates/total.parquet'\n",
    "              ]\n",
    "\n",
    "dfs = [pd.read_parquet(path) for path in file_paths]\n",
    "\n",
    "\n",
    "merged = reduce(lambda left, right: pd.merge(left, right, how='inner', on='measurementDate'), dfs)\n",
    "phosphate_average = merged['phosphateValue'].mean() \n",
    "merged['phosphateValue'] = merged['phosphateValue'].map(lambda phosphate: phosphate_average + random.uniform(1.4,-1.4) if pd.isnull(phosphate) else phosphate)"
   ]
  },
  {
   "cell_type": "code",
   "execution_count": null,
   "metadata": {},
   "outputs": [],
   "source": [
    "rain = pd.read_csv(\"../data/cleanedData/precipitation.csv\")"
   ]
  },
  {
   "cell_type": "code",
   "execution_count": null,
   "metadata": {},
   "outputs": [],
   "source": [
    "rain = rain.rename(columns={'Date': 'measurementDate'})"
   ]
  },
  {
   "cell_type": "code",
   "execution_count": null,
   "metadata": {},
   "outputs": [],
   "source": [
    "rain[\"measurementDate\"].dtype"
   ]
  },
  {
   "cell_type": "code",
   "execution_count": null,
   "metadata": {},
   "outputs": [],
   "source": [
    "rain[\"measurementDate\"] = pd.to_datetime(rain[\"measurementDate\"])\n",
    "minute_df = pd.DataFrame({\"measurementDate\": pd.date_range(start=rain[\"measurementDate\"].min(), end=rain[\"measurementDate\"].max(), freq=\"T\")})\n",
    "\n",
    "daily_precipitation = rain.groupby(rain['measurementDate'].dt.date)['Rain (mm)'].first().to_dict()\n",
    "\n",
    "def assign_precipitation(row):\n",
    "    date = row[\"measurementDate\"].date()\n",
    "    return daily_precipitation.get(date, 0.0)\n",
    "\n",
    "minute_df[\"precipitation\"] = minute_df.apply(assign_precipitation, axis=1)\n",
    "precip_resampled = rain.set_index(\"measurementDate\")[\"Rain (mm)\"].resample('T').ffill().reset_index()\n",
    "merged_df = pd.merge(minute_df, precip_resampled, how=\"left\", on=\"measurementDate\")\n",
    "merged = pd.merge(merged, merged_df[['measurementDate', 'precipitation']], how='left', on='measurementDate')"
   ]
  },
  {
   "cell_type": "code",
   "execution_count": null,
   "metadata": {},
   "outputs": [],
   "source": [
    "merged.to_parquet('../data/cleanedData/allData.parquet')"
   ]
  }
 ],
 "metadata": {
  "kernelspec": {
   "display_name": "schoolPrograming",
   "language": "python",
   "name": "python3"
  },
  "language_info": {
   "codemirror_mode": {
    "name": "ipython",
    "version": 3
   },
   "file_extension": ".py",
   "mimetype": "text/x-python",
   "name": "python",
   "nbconvert_exporter": "python",
   "pygments_lexer": "ipython3",
   "version": "3.12.3"
  }
 },
 "nbformat": 4,
 "nbformat_minor": 2
}
