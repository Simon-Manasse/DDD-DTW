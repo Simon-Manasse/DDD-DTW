{
 "cells": [
  {
   "cell_type": "code",
   "execution_count": 5,
   "metadata": {},
   "outputs": [],
   "source": [
    "import pandas as pd\n",
    "from functools import reduce\n",
    "import random"
   ]
  },
  {
   "cell_type": "code",
   "execution_count": 6,
   "metadata": {},
   "outputs": [],
   "source": [
    "file_paths = ['../data/cleanedData/oxygenAB.parquet',\n",
    "              '../data/cleanedData/nitrate.parquet',\n",
    "              '../data/cleanedData/phosphate.parquet',\n",
    "              '../data/cleanedData/ammonium.parquet',\n",
    "              '../data/shiftedDates/total.parquet']\n",
    "\n",
    "dfs = [pd.read_parquet(path) for path in file_paths]\n",
    "\n",
    "merged = reduce(lambda left, right: pd.merge(left, right, how='inner', on='measurementDate'), dfs)\n",
    "# 1.4 is the std of the phosphate\n",
    "phosphate_average = merged['phosphateValue'].mean() \n",
    "merged['phosphateValue'] = merged['phosphateValue'].map(lambda phosphate: phosphate_average + random.uniform(1.4,-1.4) if pd.isnull(phosphate) else phosphate)"
   ]
  },
  {
   "cell_type": "code",
   "execution_count": 7,
   "metadata": {},
   "outputs": [],
   "source": [
    "rain = pd.read_csv(\"../data/cleanedData/precipitation.csv\")"
   ]
  },
  {
   "cell_type": "code",
   "execution_count": 8,
   "metadata": {},
   "outputs": [
    {
     "name": "stdout",
     "output_type": "stream",
     "text": [
      "<class 'pandas.core.frame.DataFrame'>\n",
      "RangeIndex: 366 entries, 0 to 365\n",
      "Data columns (total 3 columns):\n",
      " #   Column           Non-Null Count  Dtype  \n",
      "---  ------           --------------  -----  \n",
      " 0   Unnamed: 0       366 non-null    int64  \n",
      " 1   measurementDate  366 non-null    object \n",
      " 2   Rain (mm)        366 non-null    float64\n",
      "dtypes: float64(1), int64(1), object(1)\n",
      "memory usage: 8.7+ KB\n"
     ]
    }
   ],
   "source": [
    "rain = rain.rename(columns={'Date': 'measurementDate'})\n",
    "rain.info()\n"
   ]
  },
  {
   "cell_type": "code",
   "execution_count": 9,
   "metadata": {},
   "outputs": [
    {
     "name": "stdout",
     "output_type": "stream",
     "text": [
      "<class 'pandas.core.frame.DataFrame'>\n",
      "Int64Index: 526307 entries, 0 to 526306\n",
      "Data columns (total 6 columns):\n",
      " #   Column              Non-Null Count   Dtype         \n",
      "---  ------              --------------   -----         \n",
      " 0   oxygenValue         526307 non-null  float64       \n",
      " 1   measurementDate     526307 non-null  datetime64[ns]\n",
      " 2   nitrateValue        526307 non-null  float64       \n",
      " 3   phosphateValue      526307 non-null  float64       \n",
      " 4   ammoniumValue       526307 non-null  float64       \n",
      " 5   waterFlowPerMinute  526286 non-null  float64       \n",
      "dtypes: datetime64[ns](1), float64(5)\n",
      "memory usage: 28.1 MB\n"
     ]
    }
   ],
   "source": [
    "merged.info()"
   ]
  },
  {
   "cell_type": "code",
   "execution_count": 10,
   "metadata": {},
   "outputs": [
    {
     "data": {
      "text/plain": [
       "dtype('O')"
      ]
     },
     "execution_count": 10,
     "metadata": {},
     "output_type": "execute_result"
    }
   ],
   "source": [
    "rain[\"measurementDate\"].dtype"
   ]
  },
  {
   "cell_type": "code",
   "execution_count": 11,
   "metadata": {},
   "outputs": [],
   "source": [
    "# rain = rain.astype({\"measurementDate\": \"datetime64[ns]\"})\n",
    "# date_range = pd.date_range(start=rain[\"measurementDate\"].min(), end=rain[\"measurementDate\"].max(), freq=\"T\")\n",
    "# minute_df = pd.DataFrame({\"measurementDate\": date_range})  \n",
    "\n",
    "# def assign_precipitation(row):\n",
    "#     date = row[\"measurementDate\"].date()\n",
    "#     daily_row = rain.loc[rain[\"measurementDate\"].dt.date == date]\n",
    "#     if not daily_row.empty:\n",
    "#         return daily_row[\"Rain (mm)\"].values[0]\n",
    "#     else:\n",
    "#         return 0.0\n",
    "\n",
    "# minute_df[\"precipitation\"] = minute_df.apply(assign_precipitation, axis=1)\n",
    "# precip_resampled = rain.set_index(\"measurementDate\")[\"Rain (mm)\"].resample('T').ffill()\n",
    "# precip_resampled_df = precip_resampled.to_frame(\"rain_per_minute\").reset_index()  \n",
    "# merged_df = minute_df.merge(precip_resampled_df, how=\"left\", on=\"measurementDate\")\n",
    "# merged = merged.merge(merged_df[['measurementDate', 'precipitation']], how='left', on='measurementDate')\n"
   ]
  },
  {
   "cell_type": "code",
   "execution_count": 12,
   "metadata": {},
   "outputs": [],
   "source": [
    "rain[\"measurementDate\"] = pd.to_datetime(rain[\"measurementDate\"])\n",
    "minute_df = pd.DataFrame({\"measurementDate\": pd.date_range(start=rain[\"measurementDate\"].min(), end=rain[\"measurementDate\"].max(), freq=\"T\")})\n",
    "\n",
    "daily_precipitation = rain.groupby(rain['measurementDate'].dt.date)['Rain (mm)'].first().to_dict()\n",
    "\n",
    "def assign_precipitation(row):\n",
    "    date = row[\"measurementDate\"].date()\n",
    "    return daily_precipitation.get(date, 0.0)\n",
    "\n",
    "minute_df[\"precipitation\"] = minute_df.apply(assign_precipitation, axis=1)\n",
    "precip_resampled = rain.set_index(\"measurementDate\")[\"Rain (mm)\"].resample('T').ffill().reset_index()\n",
    "merged_df = pd.merge(minute_df, precip_resampled, how=\"left\", on=\"measurementDate\")\n",
    "merged = pd.merge(merged, merged_df[['measurementDate', 'precipitation']], how='left', on='measurementDate')"
   ]
  },
  {
   "cell_type": "code",
   "execution_count": 13,
   "metadata": {},
   "outputs": [],
   "source": [
    "merged.to_parquet('../data/cleanedData/allData.parquet')"
   ]
  }
 ],
 "metadata": {
  "kernelspec": {
   "display_name": "schoolPrograming",
   "language": "python",
   "name": "python3"
  },
  "language_info": {
   "codemirror_mode": {
    "name": "ipython",
    "version": 3
   },
   "file_extension": ".py",
   "mimetype": "text/x-python",
   "name": "python",
   "nbconvert_exporter": "python",
   "pygments_lexer": "ipython3",
   "version": "3.11.8"
  }
 },
 "nbformat": 4,
 "nbformat_minor": 2
}
