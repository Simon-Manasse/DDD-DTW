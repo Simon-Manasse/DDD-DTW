{
 "cells": [
  {
   "cell_type": "code",
   "execution_count": null,
   "metadata": {},
   "outputs": [],
   "source": [
    "import pandas as pd\n",
    "from functools import reduce\n",
    "import random"
   ]
  },
  {
   "cell_type": "code",
   "execution_count": null,
   "metadata": {},
   "outputs": [],
   "source": [
    "file_paths = ['../data/cleanedData/oxygenAB.parquet',\n",
    "              '../data/cleanedData/nitrate.parquet',\n",
    "              '../data/cleanedData/phosphate.parquet',\n",
    "              '../data/cleanedData/ammonium.parquet']\n",
    "\n",
    "dfs = [pd.read_parquet(path) for path in file_paths]\n",
    "\n",
    "merged = reduce(lambda left, right: pd.merge(left, right, how='inner', on='datumEindeMeting'), dfs)\n",
    "# 1.4 is the std of the phosphate\n",
    "phosphate_average = merged['phosphateValue'].mean() + random.uniform(1.4,-1.4)\n",
    "merged['phosphateValue'] = merged['phosphateValue'].map(lambda phosphate: phosphate_average if pd.isnull(phosphate) else phosphate)\n",
    "merged.to_parquet('../data/cleanedData/allData.parquet')"
   ]
  },
  {
   "cell_type": "code",
   "execution_count": null,
   "metadata": {},
   "outputs": [],
   "source": [
    "rain = pd.read_csv(\"../data/cleanedData/precipitation.csv\")"
   ]
  },
  {
   "cell_type": "code",
   "execution_count": null,
   "metadata": {},
   "outputs": [],
   "source": [
    "rain = rain.rename(columns={'Date': 'datumEindeMeting'})\n",
    "rain.info()\n"
   ]
  },
  {
   "cell_type": "code",
   "execution_count": null,
   "metadata": {},
   "outputs": [],
   "source": [
    "merged.info()"
   ]
  },
  {
   "cell_type": "code",
   "execution_count": null,
   "metadata": {},
   "outputs": [],
   "source": [
    "rain[\"datumEindeMeting\"].dtype"
   ]
  },
  {
   "cell_type": "code",
   "execution_count": null,
   "metadata": {},
   "outputs": [],
   "source": [
    "rain = rain.astype({\"datumEindeMeting\": \"datetime64[ns]\"})\n",
    "date_range = pd.date_range(start=rain[\"datumEindeMeting\"].min(), end=rain[\"datumEindeMeting\"].max(), freq=\"T\")\n",
    "minute_df = pd.DataFrame({\"datumEindeMeting\": date_range})  \n",
    "\n",
    "def assign_precipitation(row):\n",
    "    date = row[\"datumEindeMeting\"].date()\n",
    "    daily_row = rain.loc[rain[\"datumEindeMeting\"].dt.date == date]\n",
    "    if not daily_row.empty:\n",
    "        return daily_row[\"Rain (mm)\"].values[0]\n",
    "    else:\n",
    "        return 0.0\n",
    "\n",
    "minute_df[\"precipitation\"] = minute_df.apply(assign_precipitation, axis=1)\n",
    "precip_resampled = rain.set_index(\"datumEindeMeting\")[\"Rain (mm)\"].resample('T').ffill()\n",
    "precip_resampled_df = precip_resampled.to_frame(\"rain_per_minute\").reset_index()  \n",
    "merged_df = minute_df.merge(precip_resampled_df, how=\"left\", on=\"datumEindeMeting\")\n",
    "merged = merged.merge(merged_df[['datumEindeMeting', 'precipitation']], how='left', on='datumEindeMeting')\n"
   ]
  },
  {
   "cell_type": "code",
   "execution_count": null,
   "metadata": {},
   "outputs": [],
   "source": [
    "merged"
   ]
  },
  {
   "cell_type": "code",
   "execution_count": null,
   "metadata": {},
   "outputs": [],
   "source": []
  }
 ],
 "metadata": {
  "kernelspec": {
   "display_name": "schoolPrograming",
   "language": "python",
   "name": "python3"
  },
  "language_info": {
   "codemirror_mode": {
    "name": "ipython",
    "version": 3
   },
   "file_extension": ".py",
   "mimetype": "text/x-python",
   "name": "python",
   "nbconvert_exporter": "python",
   "pygments_lexer": "ipython3",
   "version": "3.11.5"
  }
 },
 "nbformat": 4,
 "nbformat_minor": 2
}
