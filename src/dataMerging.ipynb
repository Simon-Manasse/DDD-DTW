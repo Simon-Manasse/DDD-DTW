{
 "cells": [
  {
   "cell_type": "code",
   "execution_count": 77,
   "metadata": {},
   "outputs": [],
   "source": [
    "import pandas as pd\n",
    "from functools import reduce\n",
    "import random"
   ]
  },
  {
   "cell_type": "code",
   "execution_count": 88,
   "metadata": {},
   "outputs": [],
   "source": [
    "file_paths = ['../data/cleanedData/oxygenAB.parquet',\n",
    "              '../data/cleanedData/nitrate.parquet',\n",
    "              '../data/cleanedData/phosphate.parquet',\n",
    "              '../data/cleanedData/ammonium.parquet']\n",
    "\n",
    "dfs = [pd.read_parquet(path) for path in file_paths]\n",
    "\n",
    "merged = reduce(lambda left, right: pd.merge(left, right, how='inner', on='datumEindeMeting'), dfs)\n",
    "# 1.4 is the std of the phosphate\n",
    "phosphate_average = merged['phosphateValue'].mean() + random.uniform(1.4,-1.4)\n",
    "merged['phosphateValue'] = merged['phosphateValue'].map(lambda phosphate: phosphate_average if pd.isnull(phosphate) else phosphate)\n",
    "merged.to_parquet('../data/cleanedData/allData.parquet')"
   ]
  }
 ],
 "metadata": {
  "kernelspec": {
   "display_name": "schoolPrograming",
   "language": "python",
   "name": "python3"
  },
  "language_info": {
   "codemirror_mode": {
    "name": "ipython",
    "version": 3
   },
   "file_extension": ".py",
   "mimetype": "text/x-python",
   "name": "python",
   "nbconvert_exporter": "python",
   "pygments_lexer": "ipython3",
   "version": "3.11.8"
  }
 },
 "nbformat": 4,
 "nbformat_minor": 2
}
