{
 "cells": [
  {
   "cell_type": "code",
   "execution_count": null,
   "metadata": {},
   "outputs": [],
   "source": [
    "from sklearn.model_selection import train_test_split\n",
    "from sklearn.preprocessing import StandardScaler\n",
    "from sklearn.svm import SVR\n",
    "import pandas as pd\n",
    "import numpy as np\n",
    "import matplotlib.pyplot as plt\n",
    "from joblib import Parallel, delayed\n",
    "from sklearn.metrics import root_mean_squared_error, mean_squared_error, mean_absolute_error, r2_score\n",
    "import seaborn as sns\n",
    "\n"
   ]
  },
  {
   "cell_type": "code",
   "execution_count": null,
   "metadata": {},
   "outputs": [],
   "source": [
    "data = pd.read_parquet('../data/cleanedData/allData.parquet')\n",
    "\n",
    "data['hour'] = data['measurementDate'].dt.hour\n",
    "data['minute'] = data['measurementDate'].dt.minute\n",
    "data['day_of_week'] = data['measurementDate'].dt.dayofweek\n",
    "data['month'] = data['measurementDate'].dt.month\n",
    "\n",
    "data['hour_sin'] = np.sin(2 * np.pi * data['hour'] / 24)\n",
    "data['hour_cos'] = np.cos(2 * np.pi * data['hour'] / 24)\n",
    "data['month_sin'] = np.sin(2 * np.pi * data['month'] / 12)\n",
    "data['month_cos'] = np.cos(2 * np.pi * data['month'] / 12)\n",
    "\n",
    "data = data.drop(columns=['measurementDate', 'hour', 'month'])"
   ]
  },
  {
   "cell_type": "code",
   "execution_count": null,
   "metadata": {},
   "outputs": [],
   "source": [
    "# amount_of_shift=1\n",
    "# data['lag_1'] = data['oxygenValue'].shift(amount_of_shift)\n",
    "# data['lag_2'] = data['oxygenValue'].shift(amount_of_shift+1)\n",
    "# data['lag_3'] = data['oxygenValue'].shift(amount_of_shift+2)\n",
    "\n",
    "# data['rolling_mean_3'] = data['oxygenValue'].rolling(window=3).mean()\n",
    "# data['rolling_std_3'] = data['oxygenValue'].rolling(window=3).std()\n",
    "\n",
    "# data = data.dropna()"
   ]
  },
  {
   "cell_type": "code",
   "execution_count": null,
   "metadata": {},
   "outputs": [],
   "source": [
    "lag_features = ['nitrateValue', 'phosphateValue', 'ammoniumValue', 'waterFlowPerMinute', 'precipitation']\n",
    "n_lags = 2  # Number of lag periods\n",
    "\n",
    "# Creating lag features\n",
    "for feature in lag_features:\n",
    "    for lag in range(1, n_lags + 1):\n",
    "        data[f'{feature}_lag_{lag}'] = data[feature].shift(lag)\n",
    "\n",
    "# Drop rows with NaN values created by the lagging process\n",
    "data = data.dropna()\n",
    "\n",
    "# Define features and target again after creating lagged features\n",
    "features = [col for col in data.columns if col != 'oxygenValue']\n",
    "target= 'oxygenValue'\n",
    "X = data[features]\n",
    "y = data[target]\n",
    "\n",
    "\n",
    "X_train, X_test, y_train, y_test = train_test_split(X, y, test_size=0.2, shuffle=False)"
   ]
  },
  {
   "cell_type": "code",
   "execution_count": null,
   "metadata": {},
   "outputs": [],
   "source": [
    "# fig, axes = plt.subplots(2, 3, figsize=(10, 5))\n",
    "# features = ['nitrateValue', 'phosphateValue', 'ammoniumValue', 'waterFlowPerMinute', 'precipitation']\n",
    "\n",
    "# for i, feature in enumerate(features):\n",
    "#     sns.histplot(data[feature], ax=axes[i // 3, i % 3], kde=True)\n",
    "#     axes[i // 3, i % 3].set_title(feature)\n",
    "\n",
    "# plt.tight_layout()\n",
    "# plt.show()"
   ]
  },
  {
   "cell_type": "code",
   "execution_count": null,
   "metadata": {},
   "outputs": [],
   "source": [
    "# for feature in ['nitrateValue', 'phosphateValue', 'ammoniumValue', 'waterFlowPerMinute', 'precipitation']:\n",
    "#     data[feature] = np.log(data[feature] + 1e-9)\n",
    "\n",
    "# fig, axes = plt.subplots(2, 3, figsize=(10, 5))\n",
    "# features = ['nitrateValue', 'phosphateValue', 'ammoniumValue', 'waterFlowPerMinute', 'precipitation']\n",
    "\n",
    "# for i, feature in enumerate(features):\n",
    "#     sns.histplot(data[feature], ax=axes[i // 3, i % 3], kde=True)\n",
    "#     axes[i // 3, i % 3].set_title(feature)\n",
    "\n",
    "# plt.tight_layout()\n",
    "# plt.show()"
   ]
  },
  {
   "cell_type": "code",
   "execution_count": null,
   "metadata": {},
   "outputs": [],
   "source": [
    "cpu_cores = 10\n",
    "memory_as_cache=12000\n",
    "\n",
    "def scale_data_chunk(data_chunk, scaler):\n",
    "    return scaler.transform(data_chunk)\n",
    "\n",
    "def fit_svr_chunk(X_chunk, y_chunk):\n",
    "    model = SVR(kernel='rbf', cache_size=memory_as_cache, gamma=0.001, epsilon=0.01)\n",
    "    model.fit(X_chunk, y_chunk)\n",
    "    return model\n",
    "\n",
    "def predict_svr_chunk(data_chunk, models):\n",
    "    predictions = np.mean([model.predict(data_chunk) for model in models], axis=0)\n",
    "    return predictions\n",
    "\n",
    "scaler = StandardScaler()\n",
    "X_train_scaled = scaler.fit_transform(X_train)\n",
    "\n",
    "\n",
    "X_train_chunks = np.array_split(X_train_scaled, cpu_cores)\n",
    "y_train_chunks = np.array_split(y_train, cpu_cores)\n",
    "\n",
    "svr_models = Parallel(n_jobs=cpu_cores)(delayed(fit_svr_chunk)(X_chunk, y_chunk) for X_chunk, y_chunk in zip(X_train_chunks, y_train_chunks))\n",
    "\n",
    "X_test_scaled = scaler.transform(X_test)\n",
    "\n",
    "X_test_chunks = np.array_split(X_test_scaled, cpu_cores)\n",
    "\n",
    "y_pred_chunks = Parallel(n_jobs=cpu_cores)(delayed(predict_svr_chunk)(chunk, svr_models) for chunk in X_test_chunks)\n",
    "\n",
    "y_pred = np.concatenate(y_pred_chunks)\n",
    "\n",
    "\n",
    "rmse = root_mean_squared_error(y_test, y_pred)  \n",
    "mse = mean_squared_error(y_test, y_pred)  \n",
    "mae = mean_absolute_error(y_test, y_pred)  \n",
    "r2 = r2_score(y_test, y_pred)  \n",
    "\n",
    "print(f'Root Mean Squared Error: {rmse}')\n",
    "print(f'Mean Squared Error: {mse}')\n",
    "print(f'Mean Absolute Error: {mae}')\n",
    "print(f'R-squared: {r2}')\n"
   ]
  },
  {
   "cell_type": "code",
   "execution_count": null,
   "metadata": {},
   "outputs": [],
   "source": [
    "plt.figure(figsize=(12, 6))\n",
    "plt.scatter(y_test, y_pred, alpha=0.5)\n",
    "plt.plot([y_test.min(), y_test.max()], [y_test.min(), y_test.max()], '--r', linewidth=2)\n",
    "plt.xlabel('Actual Oxygen Value')\n",
    "plt.ylabel('Predicted Oxygen Value')\n",
    "plt.title('Actual vs Predicted Oxygen Value (Optimized SVR Model)')\n",
    "plt.show()\n"
   ]
  }
 ],
 "metadata": {
  "kernelspec": {
   "display_name": "Python 3",
   "language": "python",
   "name": "python3"
  },
  "language_info": {
   "codemirror_mode": {
    "name": "ipython",
    "version": 3
   },
   "file_extension": ".py",
   "mimetype": "text/x-python",
   "name": "python",
   "nbconvert_exporter": "python",
   "pygments_lexer": "ipython3",
   "version": "3.12.3"
  }
 },
 "nbformat": 4,
 "nbformat_minor": 2
}
