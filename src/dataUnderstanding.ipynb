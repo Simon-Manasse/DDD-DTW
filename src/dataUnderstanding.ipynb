{
 "cells": [
  {
   "cell_type": "code",
   "execution_count": null,
   "metadata": {},
   "outputs": [],
   "source": [
    "import pandas as pd"
   ]
  },
  {
   "cell_type": "code",
   "execution_count": null,
   "metadata": {},
   "outputs": [],
   "source": [
    "ammonium_df = pd.read_parquet('../data/Ammonium_measurements.parquet')\n",
    "\n",
    "ammonium_df['hstWaarde'] = ammonium_df['hstWaarde'].astype(float)\n",
    "ammonium_df.head()\n",
    "ammonium_df.info()\n",
    "ammonium_df.describe()\n",
    "ammonium_df.describe(include=['O'])\n",
    "ammonium_df.shape"
   ]
  },
  {
   "cell_type": "code",
   "execution_count": null,
   "metadata": {},
   "outputs": [],
   "source": [
    "nitrate_df = pd.read_parquet('../data/Nitrate_measurements.parquet')\n",
    "\n",
    "nitrate_df['hstWaarde'] = nitrate_df['hstWaarde'].astype(float)\n",
    "nitrate_df.head()\n",
    "nitrate_df.info()\n",
    "nitrate_df.describe()\n",
    "nitrate_df.describe(include=['O'])\n",
    "nitrate_df.shape"
   ]
  },
  {
   "cell_type": "code",
   "execution_count": null,
   "metadata": {},
   "outputs": [],
   "source": [
    "influent_df = pd.read_csv('../data/Total_influent_flow_WWTP_Ede_2021_minute_data.csv', sep=\";\")\n",
    "\n",
    "influent_df.head()\n",
    "influent_df.info()\n",
    "influent_df.describe()\n",
    "nitrate_df.describe(include=['O'])\n",
    "influent_df.shape"
   ]
  }
 ],
 "metadata": {
  "kernelspec": {
   "display_name": "base",
   "language": "python",
   "name": "python3"
  },
  "language_info": {
   "codemirror_mode": {
    "name": "ipython",
    "version": 3
   },
   "file_extension": ".py",
   "mimetype": "text/x-python",
   "name": "python",
   "nbconvert_exporter": "python",
   "pygments_lexer": "ipython3",
   "version": "3.11.5"
  }
 },
 "nbformat": 4,
 "nbformat_minor": 2
}
