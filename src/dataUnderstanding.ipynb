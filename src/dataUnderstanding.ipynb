{
 "cells": [
  {
   "cell_type": "code",
   "execution_count": 1,
   "metadata": {},
   "outputs": [],
   "source": [
    "import pandas as pd"
   ]
  },
  {
   "cell_type": "markdown",
   "metadata": {},
   "source": [
    "Understanding ammonium data"
   ]
  },
  {
   "cell_type": "code",
   "execution_count": 2,
   "metadata": {},
   "outputs": [
    {
     "name": "stdout",
     "output_type": "stream",
     "text": [
      "<class 'pandas.core.frame.DataFrame'>\n",
      "Index: 525469 entries, 0 to 44639\n",
      "Data columns (total 4 columns):\n",
      " #   Column              Non-Null Count   Dtype  \n",
      "---  ------              --------------   -----  \n",
      " 0   historianTagnummer  525469 non-null  object \n",
      " 1   hstWaarde           525469 non-null  float64\n",
      " 2   datumBeginMeting    525469 non-null  object \n",
      " 3   datumEindeMeting    525469 non-null  object \n",
      "dtypes: float64(1), object(3)\n",
      "memory usage: 20.0+ MB\n"
     ]
    },
    {
     "data": {
      "text/plain": [
       "(525469, 4)"
      ]
     },
     "execution_count": 2,
     "metadata": {},
     "output_type": "execute_result"
    }
   ],
   "source": [
    "ammonium_df = pd.read_parquet('../data/Ammonium_measurements.parquet')\n",
    "\n",
    "ammonium_df['hstWaarde'] = ammonium_df['hstWaarde'].astype(float)\n",
    "ammonium_df.head()\n",
    "ammonium_df.info()\n",
    "ammonium_df.describe()\n",
    "ammonium_df.describe(include=['O'])\n",
    "ammonium_df.shape"
   ]
  },
  {
   "cell_type": "markdown",
   "metadata": {},
   "source": [
    "Understanding Nitrate data"
   ]
  },
  {
   "cell_type": "code",
   "execution_count": 3,
   "metadata": {},
   "outputs": [
    {
     "name": "stdout",
     "output_type": "stream",
     "text": [
      "<class 'pandas.core.frame.DataFrame'>\n",
      "Index: 525469 entries, 0 to 44639\n",
      "Data columns (total 4 columns):\n",
      " #   Column              Non-Null Count   Dtype  \n",
      "---  ------              --------------   -----  \n",
      " 0   historianTagnummer  525469 non-null  object \n",
      " 1   hstWaarde           525469 non-null  float64\n",
      " 2   datumBeginMeting    525469 non-null  object \n",
      " 3   datumEindeMeting    525469 non-null  object \n",
      "dtypes: float64(1), object(3)\n",
      "memory usage: 20.0+ MB\n"
     ]
    },
    {
     "data": {
      "text/plain": [
       "(525469, 4)"
      ]
     },
     "execution_count": 3,
     "metadata": {},
     "output_type": "execute_result"
    }
   ],
   "source": [
    "nitrate_df = pd.read_parquet('../data/Nitrate_measurements.parquet')\n",
    "\n",
    "nitrate_df['hstWaarde'] = nitrate_df['hstWaarde'].astype(float)\n",
    "nitrate_df.head()\n",
    "nitrate_df.info()\n",
    "nitrate_df.describe()\n",
    "nitrate_df.describe(include=['O'])\n",
    "nitrate_df.shape"
   ]
  },
  {
   "cell_type": "markdown",
   "metadata": {},
   "source": [
    "Understanding Influent data"
   ]
  },
  {
   "cell_type": "code",
   "execution_count": 4,
   "metadata": {},
   "outputs": [
    {
     "name": "stdout",
     "output_type": "stream",
     "text": [
      "<class 'pandas.core.frame.DataFrame'>\n",
      "RangeIndex: 525599 entries, 0 to 525598\n",
      "Data columns (total 3 columns):\n",
      " #   Column                 Non-Null Count   Dtype \n",
      "---  ------                 --------------   ----- \n",
      " 0   DateTime               525599 non-null  object\n",
      " 1   EDE_09902MTW_K100.MTW  525599 non-null  object\n",
      " 2   wwResolution           525599 non-null  int64 \n",
      "dtypes: int64(1), object(2)\n",
      "memory usage: 12.0+ MB\n"
     ]
    },
    {
     "data": {
      "text/plain": [
       "(525599, 3)"
      ]
     },
     "execution_count": 4,
     "metadata": {},
     "output_type": "execute_result"
    }
   ],
   "source": [
    "influent_df = pd.read_csv('../data/Total_influent_flow_WWTP_Ede_2021_minute_data.csv', sep=\";\")\n",
    "\n",
    "influent_df.head()\n",
    "influent_df.info()\n",
    "influent_df.describe()\n",
    "nitrate_df.describe(include=['O'])\n",
    "influent_df.shape"
   ]
  },
  {
   "cell_type": "markdown",
   "metadata": {},
   "source": [
    "Understanding Oxygen A data"
   ]
  },
  {
   "cell_type": "code",
   "execution_count": 20,
   "metadata": {},
   "outputs": [
    {
     "data": {
      "text/html": [
       "<div>\n",
       "<style scoped>\n",
       "    .dataframe tbody tr th:only-of-type {\n",
       "        vertical-align: middle;\n",
       "    }\n",
       "\n",
       "    .dataframe tbody tr th {\n",
       "        vertical-align: top;\n",
       "    }\n",
       "\n",
       "    .dataframe thead th {\n",
       "        text-align: right;\n",
       "    }\n",
       "</style>\n",
       "<table border=\"1\" class=\"dataframe\">\n",
       "  <thead>\n",
       "    <tr style=\"text-align: right;\">\n",
       "      <th></th>\n",
       "      <th>historianTagnummer</th>\n",
       "      <th>hstWaarde</th>\n",
       "      <th>datumBeginMeting</th>\n",
       "      <th>datumEindeMeting</th>\n",
       "    </tr>\n",
       "  </thead>\n",
       "  <tbody>\n",
       "    <tr>\n",
       "      <th>0</th>\n",
       "      <td>EDE_B121069901_K600.MTW</td>\n",
       "      <td>0.003</td>\n",
       "      <td>2021-01-01 00:00:00</td>\n",
       "      <td>2021-01-01 00:01:00</td>\n",
       "    </tr>\n",
       "    <tr>\n",
       "      <th>1</th>\n",
       "      <td>EDE_B121069901_K600.MTW</td>\n",
       "      <td>0.003</td>\n",
       "      <td>2021-01-01 00:01:00</td>\n",
       "      <td>2021-01-01 00:02:00</td>\n",
       "    </tr>\n",
       "    <tr>\n",
       "      <th>2</th>\n",
       "      <td>EDE_B121069901_K600.MTW</td>\n",
       "      <td>0.003</td>\n",
       "      <td>2021-01-01 00:02:00</td>\n",
       "      <td>2021-01-01 00:03:00</td>\n",
       "    </tr>\n",
       "    <tr>\n",
       "      <th>3</th>\n",
       "      <td>EDE_B121069901_K600.MTW</td>\n",
       "      <td>0.003</td>\n",
       "      <td>2021-01-01 00:03:00</td>\n",
       "      <td>2021-01-01 00:04:00</td>\n",
       "    </tr>\n",
       "    <tr>\n",
       "      <th>4</th>\n",
       "      <td>EDE_B121069901_K600.MTW</td>\n",
       "      <td>0.003</td>\n",
       "      <td>2021-01-01 00:04:00</td>\n",
       "      <td>2021-01-01 00:05:00</td>\n",
       "    </tr>\n",
       "  </tbody>\n",
       "</table>\n",
       "</div>"
      ],
      "text/plain": [
       "        historianTagnummer  hstWaarde     datumBeginMeting  \\\n",
       "0  EDE_B121069901_K600.MTW      0.003  2021-01-01 00:00:00   \n",
       "1  EDE_B121069901_K600.MTW      0.003  2021-01-01 00:01:00   \n",
       "2  EDE_B121069901_K600.MTW      0.003  2021-01-01 00:02:00   \n",
       "3  EDE_B121069901_K600.MTW      0.003  2021-01-01 00:03:00   \n",
       "4  EDE_B121069901_K600.MTW      0.003  2021-01-01 00:04:00   \n",
       "\n",
       "      datumEindeMeting  \n",
       "0  2021-01-01 00:01:00  \n",
       "1  2021-01-01 00:02:00  \n",
       "2  2021-01-01 00:03:00  \n",
       "3  2021-01-01 00:04:00  \n",
       "4  2021-01-01 00:05:00  "
      ]
     },
     "execution_count": 20,
     "metadata": {},
     "output_type": "execute_result"
    }
   ],
   "source": [
    "oxygenA_df = pd.read_parquet('../data/Oxygen_A.parquet')\n",
    "\n",
    "oxygenA_df['hstWaarde'] = oxygenA_df['hstWaarde'].astype(float)\n",
    "oxygenA_df.head() \n",
    "oxygenA_df.info()\n",
    "oxygenA_df.describe()\n",
    "oxygenA_df.describe(include=['O'])"
   ]
  },
  {
   "cell_type": "markdown",
   "metadata": {},
   "source": [
    "Understandign OxygenB data"
   ]
  },
  {
   "cell_type": "code",
   "execution_count": 26,
   "metadata": {},
   "outputs": [
    {
     "name": "stdout",
     "output_type": "stream",
     "text": [
      "<class 'pandas.core.frame.DataFrame'>\n",
      "Index: 525469 entries, 0 to 44639\n",
      "Data columns (total 4 columns):\n",
      " #   Column              Non-Null Count   Dtype  \n",
      "---  ------              --------------   -----  \n",
      " 0   historianTagnummer  525469 non-null  object \n",
      " 1   hstWaarde           525469 non-null  float64\n",
      " 2   datumBeginMeting    525469 non-null  object \n",
      " 3   datumEindeMeting    525469 non-null  object \n",
      "dtypes: float64(1), object(3)\n",
      "memory usage: 20.0+ MB\n"
     ]
    },
    {
     "data": {
      "text/html": [
       "<div>\n",
       "<style scoped>\n",
       "    .dataframe tbody tr th:only-of-type {\n",
       "        vertical-align: middle;\n",
       "    }\n",
       "\n",
       "    .dataframe tbody tr th {\n",
       "        vertical-align: top;\n",
       "    }\n",
       "\n",
       "    .dataframe thead th {\n",
       "        text-align: right;\n",
       "    }\n",
       "</style>\n",
       "<table border=\"1\" class=\"dataframe\">\n",
       "  <thead>\n",
       "    <tr style=\"text-align: right;\">\n",
       "      <th></th>\n",
       "      <th>historianTagnummer</th>\n",
       "      <th>datumBeginMeting</th>\n",
       "      <th>datumEindeMeting</th>\n",
       "    </tr>\n",
       "  </thead>\n",
       "  <tbody>\n",
       "    <tr>\n",
       "      <th>count</th>\n",
       "      <td>525469</td>\n",
       "      <td>525469</td>\n",
       "      <td>525469</td>\n",
       "    </tr>\n",
       "    <tr>\n",
       "      <th>unique</th>\n",
       "      <td>1</td>\n",
       "      <td>525409</td>\n",
       "      <td>525409</td>\n",
       "    </tr>\n",
       "    <tr>\n",
       "      <th>top</th>\n",
       "      <td>EDE_B121069907_K600.MTW</td>\n",
       "      <td>2021-10-31 02:10:00</td>\n",
       "      <td>2021-10-31 02:11:00</td>\n",
       "    </tr>\n",
       "    <tr>\n",
       "      <th>freq</th>\n",
       "      <td>525469</td>\n",
       "      <td>2</td>\n",
       "      <td>2</td>\n",
       "    </tr>\n",
       "  </tbody>\n",
       "</table>\n",
       "</div>"
      ],
      "text/plain": [
       "             historianTagnummer     datumBeginMeting     datumEindeMeting\n",
       "count                    525469               525469               525469\n",
       "unique                        1               525409               525409\n",
       "top     EDE_B121069907_K600.MTW  2021-10-31 02:10:00  2021-10-31 02:11:00\n",
       "freq                     525469                    2                    2"
      ]
     },
     "execution_count": 26,
     "metadata": {},
     "output_type": "execute_result"
    }
   ],
   "source": [
    "oxygenB_df = pd.read_parquet('../data/Oxygen_B.parquet')\n",
    "\n",
    "oxygenB_df['hstWaarde'] = oxygenB_df['hstWaarde'].astype('float')\n",
    "oxygenB_df.info()\n",
    "oxygenB_df.describe(include=['O'])\n",
    "oxygenB_df.describe()"
   ]
  },
  {
   "cell_type": "markdown",
   "metadata": {},
   "source": [
    "Understanding Phosphate data "
   ]
  },
  {
   "cell_type": "code",
   "execution_count": 32,
   "metadata": {},
   "outputs": [
    {
     "data": {
      "text/html": [
       "<div>\n",
       "<style scoped>\n",
       "    .dataframe tbody tr th:only-of-type {\n",
       "        vertical-align: middle;\n",
       "    }\n",
       "\n",
       "    .dataframe tbody tr th {\n",
       "        vertical-align: top;\n",
       "    }\n",
       "\n",
       "    .dataframe thead th {\n",
       "        text-align: right;\n",
       "    }\n",
       "</style>\n",
       "<table border=\"1\" class=\"dataframe\">\n",
       "  <thead>\n",
       "    <tr style=\"text-align: right;\">\n",
       "      <th></th>\n",
       "      <th>historianTagnummer</th>\n",
       "      <th>datumBeginMeting</th>\n",
       "      <th>datumEindeMeting</th>\n",
       "    </tr>\n",
       "  </thead>\n",
       "  <tbody>\n",
       "    <tr>\n",
       "      <th>count</th>\n",
       "      <td>218859</td>\n",
       "      <td>218859</td>\n",
       "      <td>218859</td>\n",
       "    </tr>\n",
       "    <tr>\n",
       "      <th>unique</th>\n",
       "      <td>1</td>\n",
       "      <td>218859</td>\n",
       "      <td>218859</td>\n",
       "    </tr>\n",
       "    <tr>\n",
       "      <th>top</th>\n",
       "      <td>EDE_B121069917_K600.MTW</td>\n",
       "      <td>2021-12-31 23:59:00</td>\n",
       "      <td>2022-01-01 00:00:00</td>\n",
       "    </tr>\n",
       "    <tr>\n",
       "      <th>freq</th>\n",
       "      <td>218859</td>\n",
       "      <td>1</td>\n",
       "      <td>1</td>\n",
       "    </tr>\n",
       "  </tbody>\n",
       "</table>\n",
       "</div>"
      ],
      "text/plain": [
       "             historianTagnummer     datumBeginMeting     datumEindeMeting\n",
       "count                    218859               218859               218859\n",
       "unique                        1               218859               218859\n",
       "top     EDE_B121069917_K600.MTW  2021-12-31 23:59:00  2022-01-01 00:00:00\n",
       "freq                     218859                    1                    1"
      ]
     },
     "execution_count": 32,
     "metadata": {},
     "output_type": "execute_result"
    }
   ],
   "source": [
    "phosphate_df = pd.read_parquet('../data/Phosphate_measurements.parquet')\n",
    "\n",
    "phosphate_df.head()\n",
    "phosphate_df['hstWaarde'] = phosphate_df['hstWaarde'].astype(float)\n",
    "phosphate_df.describe()\n",
    "phosphate_df.describe(include=['O'])\n"
   ]
  }
 ],
 "metadata": {
  "kernelspec": {
   "display_name": "base",
   "language": "python",
   "name": "python3"
  },
  "language_info": {
   "codemirror_mode": {
    "name": "ipython",
    "version": 3
   },
   "file_extension": ".py",
   "mimetype": "text/x-python",
   "name": "python",
   "nbconvert_exporter": "python",
   "pygments_lexer": "ipython3",
   "version": "3.12.2"
  }
 },
 "nbformat": 4,
 "nbformat_minor": 2
}
