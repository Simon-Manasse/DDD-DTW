{
 "cells": [
  {
   "cell_type": "code",
   "execution_count": 53,
   "metadata": {},
   "outputs": [],
   "source": [
    "import pandas as pd"
   ]
  },
  {
   "cell_type": "markdown",
   "metadata": {},
   "source": [
    "Understanding Ammonium data"
   ]
  },
  {
   "cell_type": "code",
   "execution_count": 54,
   "metadata": {},
   "outputs": [
    {
     "name": "stdout",
     "output_type": "stream",
     "text": [
      "<class 'pandas.core.frame.DataFrame'>\n",
      "Int64Index: 525469 entries, 0 to 44639\n",
      "Data columns (total 4 columns):\n",
      " #   Column              Non-Null Count   Dtype  \n",
      "---  ------              --------------   -----  \n",
      " 0   historianTagnummer  525469 non-null  object \n",
      " 1   hstWaarde           525469 non-null  float64\n",
      " 2   datumBeginMeting    525469 non-null  object \n",
      " 3   datumEindeMeting    525469 non-null  object \n",
      "dtypes: float64(1), object(3)\n",
      "memory usage: 20.0+ MB\n"
     ]
    },
    {
     "data": {
      "text/plain": [
       "(525469, 4)"
      ]
     },
     "execution_count": 54,
     "metadata": {},
     "output_type": "execute_result"
    }
   ],
   "source": [
    "ammonium_df = pd.read_parquet('../data/Ammonium_measurements.parquet')\n",
    "\n",
    "ammonium_df['hstWaarde'] = ammonium_df['hstWaarde'].astype(float)\n",
    "ammonium_df.head()\n",
    "ammonium_df.info()\n",
    "ammonium_df.describe()\n",
    "ammonium_df.describe(include=['O'])\n",
    "ammonium_df.shape"
   ]
  },
  {
   "cell_type": "markdown",
   "metadata": {},
   "source": [
    "Understanding Nitrate data"
   ]
  },
  {
   "cell_type": "code",
   "execution_count": 55,
   "metadata": {},
   "outputs": [
    {
     "name": "stdout",
     "output_type": "stream",
     "text": [
      "<class 'pandas.core.frame.DataFrame'>\n",
      "Int64Index: 525469 entries, 0 to 44639\n",
      "Data columns (total 4 columns):\n",
      " #   Column              Non-Null Count   Dtype  \n",
      "---  ------              --------------   -----  \n",
      " 0   historianTagnummer  525469 non-null  object \n",
      " 1   hstWaarde           525469 non-null  float64\n",
      " 2   datumBeginMeting    525469 non-null  object \n",
      " 3   datumEindeMeting    525469 non-null  object \n",
      "dtypes: float64(1), object(3)\n",
      "memory usage: 20.0+ MB\n"
     ]
    },
    {
     "data": {
      "text/plain": [
       "(525469, 4)"
      ]
     },
     "execution_count": 55,
     "metadata": {},
     "output_type": "execute_result"
    }
   ],
   "source": [
    "nitrate_df = pd.read_parquet('../data/Nitrate_measurements.parquet')\n",
    "\n",
    "nitrate_df['hstWaarde'] = nitrate_df['hstWaarde'].astype(float)\n",
    "nitrate_df.head()\n",
    "nitrate_df.info()\n",
    "nitrate_df.describe()\n",
    "nitrate_df.describe(include=['O'])\n",
    "nitrate_df.shape"
   ]
  },
  {
   "cell_type": "markdown",
   "metadata": {},
   "source": [
    "Understanding Influent flow data"
   ]
  },
  {
   "cell_type": "code",
   "execution_count": 56,
   "metadata": {},
   "outputs": [
    {
     "name": "stdout",
     "output_type": "stream",
     "text": [
      "<class 'pandas.core.frame.DataFrame'>\n",
      "RangeIndex: 525599 entries, 0 to 525598\n",
      "Data columns (total 3 columns):\n",
      " #   Column                 Non-Null Count   Dtype \n",
      "---  ------                 --------------   ----- \n",
      " 0   DateTime               525599 non-null  object\n",
      " 1   EDE_09902MTW_K100.MTW  525599 non-null  object\n",
      " 2   wwResolution           525599 non-null  int64 \n",
      "dtypes: int64(1), object(2)\n",
      "memory usage: 12.0+ MB\n"
     ]
    },
    {
     "data": {
      "text/plain": [
       "(525599, 3)"
      ]
     },
     "execution_count": 56,
     "metadata": {},
     "output_type": "execute_result"
    }
   ],
   "source": [
    "influent_df = pd.read_csv('../data/Total_influent_flow_WWTP_Ede_2021_minute_data.csv', sep=\";\")\n",
    "\n",
    "influent_df.head()\n",
    "influent_df.info()\n",
    "influent_df.describe()\n",
    "nitrate_df.describe(include=['O'])\n",
    "influent_df.shape"
   ]
  },
  {
   "cell_type": "markdown",
   "metadata": {},
   "source": [
    "Understanding OxygenA data"
   ]
  },
  {
   "cell_type": "code",
   "execution_count": 57,
   "metadata": {},
   "outputs": [
    {
     "name": "stdout",
     "output_type": "stream",
     "text": [
      "<class 'pandas.core.frame.DataFrame'>\n",
      "Int64Index: 436189 entries, 0 to 43199\n",
      "Data columns (total 4 columns):\n",
      " #   Column              Non-Null Count   Dtype  \n",
      "---  ------              --------------   -----  \n",
      " 0   historianTagnummer  436189 non-null  object \n",
      " 1   hstWaarde           436189 non-null  float64\n",
      " 2   datumBeginMeting    436189 non-null  object \n",
      " 3   datumEindeMeting    436189 non-null  object \n",
      "dtypes: float64(1), object(3)\n",
      "memory usage: 16.6+ MB\n"
     ]
    },
    {
     "data": {
      "text/plain": [
       "(436189, 4)"
      ]
     },
     "execution_count": 57,
     "metadata": {},
     "output_type": "execute_result"
    }
   ],
   "source": [
    "oxygenA_df = pd.read_parquet('../data/Oxygen_A.parquet')\n",
    "\n",
    "oxygenA_df['hstWaarde'] = oxygenA_df['hstWaarde'].astype(float)\n",
    "oxygenA_df.head() \n",
    "oxygenA_df.info()\n",
    "oxygenA_df.describe()\n",
    "oxygenA_df.describe(include=['O'])\n",
    "oxygenA_df.shape"
   ]
  },
  {
   "cell_type": "markdown",
   "metadata": {},
   "source": [
    "Understanding OxygenB data"
   ]
  },
  {
   "cell_type": "code",
   "execution_count": 58,
   "metadata": {},
   "outputs": [
    {
     "name": "stdout",
     "output_type": "stream",
     "text": [
      "<class 'pandas.core.frame.DataFrame'>\n",
      "Int64Index: 525469 entries, 0 to 44639\n",
      "Data columns (total 4 columns):\n",
      " #   Column              Non-Null Count   Dtype  \n",
      "---  ------              --------------   -----  \n",
      " 0   historianTagnummer  525469 non-null  object \n",
      " 1   hstWaarde           525469 non-null  float64\n",
      " 2   datumBeginMeting    525469 non-null  object \n",
      " 3   datumEindeMeting    525469 non-null  object \n",
      "dtypes: float64(1), object(3)\n",
      "memory usage: 20.0+ MB\n"
     ]
    },
    {
     "data": {
      "text/plain": [
       "(525469, 4)"
      ]
     },
     "execution_count": 58,
     "metadata": {},
     "output_type": "execute_result"
    }
   ],
   "source": [
    "oxygenB_df = pd.read_parquet('../data/Oxygen_B.parquet')\n",
    "\n",
    "oxygenB_df['hstWaarde'] = oxygenB_df['hstWaarde'].astype('float')\n",
    "oxygenB_df.info()\n",
    "oxygenB_df.describe(include=['O'])\n",
    "oxygenB_df.describe()\n",
    "oxygenB_df.shape"
   ]
  },
  {
   "cell_type": "markdown",
   "metadata": {},
   "source": [
    "Understanding Phosphate data "
   ]
  },
  {
   "cell_type": "code",
   "execution_count": 59,
   "metadata": {},
   "outputs": [
    {
     "name": "stdout",
     "output_type": "stream",
     "text": [
      "<class 'pandas.core.frame.DataFrame'>\n",
      "Int64Index: 218859 entries, 0 to 44639\n",
      "Data columns (total 4 columns):\n",
      " #   Column              Non-Null Count   Dtype  \n",
      "---  ------              --------------   -----  \n",
      " 0   historianTagnummer  218859 non-null  object \n",
      " 1   hstWaarde           218859 non-null  float64\n",
      " 2   datumBeginMeting    218859 non-null  object \n",
      " 3   datumEindeMeting    218859 non-null  object \n",
      "dtypes: float64(1), object(3)\n",
      "memory usage: 8.3+ MB\n"
     ]
    },
    {
     "data": {
      "text/plain": [
       "(218859, 4)"
      ]
     },
     "execution_count": 59,
     "metadata": {},
     "output_type": "execute_result"
    }
   ],
   "source": [
    "phosphate_df = pd.read_parquet('../data/Phosphate_measurements.parquet')\n",
    "\n",
    "phosphate_df['hstWaarde'] = phosphate_df['hstWaarde'].astype(float)\n",
    "phosphate_df.head()\n",
    "phosphate_df.info()\n",
    "phosphate_df.describe()\n",
    "phosphate_df.describe(include=['O'])\n",
    "phosphate_df.shape\n"
   ]
  },
  {
   "cell_type": "markdown",
   "metadata": {},
   "source": [
    "Understanding Effluent data"
   ]
  },
  {
   "cell_type": "code",
   "execution_count": 60,
   "metadata": {},
   "outputs": [
    {
     "name": "stdout",
     "output_type": "stream",
     "text": [
      "<class 'pandas.core.frame.DataFrame'>\n",
      "RangeIndex: 36518 entries, 0 to 36517\n",
      "Data columns (total 4 columns):\n",
      " #   Column            Non-Null Count  Dtype  \n",
      "---  ------            --------------  -----  \n",
      " 0   datumBeginMeting  36518 non-null  object \n",
      " 1   eff_debiet        32689 non-null  float64\n",
      " 2   eff_po4           32689 non-null  float64\n",
      " 3   eff_nh4           32686 non-null  float64\n",
      "dtypes: float64(3), object(1)\n",
      "memory usage: 1.1+ MB\n"
     ]
    },
    {
     "data": {
      "text/plain": [
       "(36518, 4)"
      ]
     },
     "execution_count": 60,
     "metadata": {},
     "output_type": "execute_result"
    }
   ],
   "source": [
    "effluent_df = pd.read_csv('../data/Effluent_15min.csv')\n",
    "\n",
    "effluent_df['eff_debiet'] = pd.to_numeric(effluent_df['eff_debiet'], errors='coerce')\n",
    "effluent_df['eff_po4'] = pd.to_numeric(effluent_df['eff_po4'], errors='coerce')\n",
    "effluent_df['eff_nh4'] = pd.to_numeric(effluent_df['eff_nh4'], errors='coerce')\n",
    "\n",
    "effluent_df.head()\n",
    "effluent_df.info()\n",
    "effluent_df.describe()\n",
    "effluent_df.describe(include=['O'])\n",
    "effluent_df.shape"
   ]
  },
  {
   "cell_type": "code",
   "execution_count": 61,
   "metadata": {},
   "outputs": [
    {
     "data": {
      "text/html": [
       "<div>\n",
       "<style scoped>\n",
       "    .dataframe tbody tr th:only-of-type {\n",
       "        vertical-align: middle;\n",
       "    }\n",
       "\n",
       "    .dataframe tbody tr th {\n",
       "        vertical-align: top;\n",
       "    }\n",
       "\n",
       "    .dataframe thead th {\n",
       "        text-align: right;\n",
       "    }\n",
       "</style>\n",
       "<table border=\"1\" class=\"dataframe\">\n",
       "  <thead>\n",
       "    <tr style=\"text-align: right;\">\n",
       "      <th></th>\n",
       "      <th>oxygenA</th>\n",
       "      <th>datumEindeMeting</th>\n",
       "      <th>oxygenB</th>\n",
       "      <th>nitrate</th>\n",
       "      <th>ammonium</th>\n",
       "      <th>phosphate_df</th>\n",
       "    </tr>\n",
       "  </thead>\n",
       "  <tbody>\n",
       "    <tr>\n",
       "      <th>0</th>\n",
       "      <td>0.003</td>\n",
       "      <td>2021-01-01 00:01:00</td>\n",
       "      <td>0.029</td>\n",
       "      <td>6.140</td>\n",
       "      <td>4.487</td>\n",
       "      <td>0.185</td>\n",
       "    </tr>\n",
       "    <tr>\n",
       "      <th>1</th>\n",
       "      <td>0.003</td>\n",
       "      <td>2021-01-01 00:02:00</td>\n",
       "      <td>0.028</td>\n",
       "      <td>6.118</td>\n",
       "      <td>4.263</td>\n",
       "      <td>0.126</td>\n",
       "    </tr>\n",
       "    <tr>\n",
       "      <th>2</th>\n",
       "      <td>0.003</td>\n",
       "      <td>2021-01-01 00:03:00</td>\n",
       "      <td>0.028</td>\n",
       "      <td>5.963</td>\n",
       "      <td>4.173</td>\n",
       "      <td>0.108</td>\n",
       "    </tr>\n",
       "    <tr>\n",
       "      <th>3</th>\n",
       "      <td>0.003</td>\n",
       "      <td>2021-01-01 00:04:00</td>\n",
       "      <td>0.028</td>\n",
       "      <td>5.884</td>\n",
       "      <td>4.194</td>\n",
       "      <td>0.122</td>\n",
       "    </tr>\n",
       "    <tr>\n",
       "      <th>4</th>\n",
       "      <td>0.003</td>\n",
       "      <td>2021-01-01 00:05:00</td>\n",
       "      <td>0.028</td>\n",
       "      <td>5.876</td>\n",
       "      <td>4.214</td>\n",
       "      <td>0.136</td>\n",
       "    </tr>\n",
       "    <tr>\n",
       "      <th>...</th>\n",
       "      <td>...</td>\n",
       "      <td>...</td>\n",
       "      <td>...</td>\n",
       "      <td>...</td>\n",
       "      <td>...</td>\n",
       "      <td>...</td>\n",
       "    </tr>\n",
       "    <tr>\n",
       "      <th>218854</th>\n",
       "      <td>NaN</td>\n",
       "      <td>2021-12-31 23:56:00</td>\n",
       "      <td>0.549</td>\n",
       "      <td>6.890</td>\n",
       "      <td>2.256</td>\n",
       "      <td>1.935</td>\n",
       "    </tr>\n",
       "    <tr>\n",
       "      <th>218855</th>\n",
       "      <td>NaN</td>\n",
       "      <td>2021-12-31 23:57:00</td>\n",
       "      <td>0.559</td>\n",
       "      <td>6.904</td>\n",
       "      <td>2.264</td>\n",
       "      <td>1.944</td>\n",
       "    </tr>\n",
       "    <tr>\n",
       "      <th>218856</th>\n",
       "      <td>NaN</td>\n",
       "      <td>2021-12-31 23:58:00</td>\n",
       "      <td>0.554</td>\n",
       "      <td>6.985</td>\n",
       "      <td>2.273</td>\n",
       "      <td>2.092</td>\n",
       "    </tr>\n",
       "    <tr>\n",
       "      <th>218857</th>\n",
       "      <td>NaN</td>\n",
       "      <td>2021-12-31 23:59:00</td>\n",
       "      <td>0.568</td>\n",
       "      <td>6.992</td>\n",
       "      <td>2.281</td>\n",
       "      <td>2.133</td>\n",
       "    </tr>\n",
       "    <tr>\n",
       "      <th>218858</th>\n",
       "      <td>NaN</td>\n",
       "      <td>2022-01-01 00:00:00</td>\n",
       "      <td>0.563</td>\n",
       "      <td>6.999</td>\n",
       "      <td>2.289</td>\n",
       "      <td>2.133</td>\n",
       "    </tr>\n",
       "  </tbody>\n",
       "</table>\n",
       "<p>218859 rows × 6 columns</p>\n",
       "</div>"
      ],
      "text/plain": [
       "        oxygenA     datumEindeMeting  oxygenB  nitrate  ammonium  phosphate_df\n",
       "0         0.003  2021-01-01 00:01:00    0.029    6.140     4.487         0.185\n",
       "1         0.003  2021-01-01 00:02:00    0.028    6.118     4.263         0.126\n",
       "2         0.003  2021-01-01 00:03:00    0.028    5.963     4.173         0.108\n",
       "3         0.003  2021-01-01 00:04:00    0.028    5.884     4.194         0.122\n",
       "4         0.003  2021-01-01 00:05:00    0.028    5.876     4.214         0.136\n",
       "...         ...                  ...      ...      ...       ...           ...\n",
       "218854      NaN  2021-12-31 23:56:00    0.549    6.890     2.256         1.935\n",
       "218855      NaN  2021-12-31 23:57:00    0.559    6.904     2.264         1.944\n",
       "218856      NaN  2021-12-31 23:58:00    0.554    6.985     2.273         2.092\n",
       "218857      NaN  2021-12-31 23:59:00    0.568    6.992     2.281         2.133\n",
       "218858      NaN  2022-01-01 00:00:00    0.563    6.999     2.289         2.133\n",
       "\n",
       "[218859 rows x 6 columns]"
      ]
     },
     "execution_count": 61,
     "metadata": {},
     "output_type": "execute_result"
    }
   ],
   "source": [
    "def rename(df,substance):\n",
    "    df.rename(columns={'hstWaarde':substance}, inplace=True)\n",
    "    df.drop(columns=['historianTagnummer','datumBeginMeting'],inplace=True)\n",
    "    pass\n",
    "\n",
    "rename(oxygenA_df,'oxygenA')\n",
    "rename(oxygenB_df,'oxygenB')\n",
    "rename(nitrate_df,'nitrate')\n",
    "rename(ammonium_df,'ammonium')\n",
    "rename(phosphate_df,'phosphate_df')\n",
    "\n",
    "merged = pd.merge(oxygenA_df,oxygenB_df,how='inner',on='datumEindeMeting')\n",
    "merged = pd.merge(merged,nitrate_df,how='inner',on='datumEindeMeting')\n",
    "merged = pd.merge(merged,ammonium_df,how='inner',on='datumEindeMeting')\n",
    "merged = pd.merge(merged,phosphate_df,how='inner',on='datumEindeMeting')\n",
    "merged"
   ]
  },
  {
   "cell_type": "code",
   "execution_count": 62,
   "metadata": {},
   "outputs": [
    {
     "name": "stderr",
     "output_type": "stream",
     "text": [
      "/tmp/ipykernel_6568/519614858.py:2: FutureWarning: The default value of numeric_only in DataFrame.corr is deprecated. In a future version, it will default to False. Select only valid columns or specify the value of numeric_only to silence this warning.\n",
      "  sns.heatmap(merged.corr(), annot=True, cmap='viridis', fmt=\".2f\")\n"
     ]
    },
    {
     "data": {
      "text/plain": [
       "<Axes: >"
      ]
     },
     "execution_count": 62,
     "metadata": {},
     "output_type": "execute_result"
    },
    {
     "data": {
      "image/png": "[encoded data removed]",
      "text/plain": [
       "<Figure size 640x480 with 2 Axes>"
      ]
     },
     "metadata": {},
     "output_type": "display_data"
    }
   ],
   "source": [
    "import seaborn as sns\n",
    "sns.heatmap(merged.corr(), annot=True, cmap='viridis', fmt=\".2f\")"
   ]
  }
 ],
 "metadata": {
  "kernelspec": {
   "display_name": "base",
   "language": "python",
   "name": "python3"
  },
  "language_info": {
   "codemirror_mode": {
    "name": "ipython",
    "version": 3
   },
   "file_extension": ".py",
   "mimetype": "text/x-python",
   "name": "python",
   "nbconvert_exporter": "python",
   "pygments_lexer": "ipython3",
   "version": "3.11.8"
  }
 },
 "nbformat": 4,
 "nbformat_minor": 2
}
