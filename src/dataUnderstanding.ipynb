{
 "cells": [
  {
   "cell_type": "code",
   "execution_count": null,
   "metadata": {},
   "outputs": [],
   "source": [
    "import pandas as pd"
   ]
  },
  {
   "cell_type": "code",
   "execution_count": 4,
   "metadata": {},
   "outputs": [
    {
     "name": "stdout",
     "output_type": "stream",
     "text": [
      "<class 'pandas.core.frame.DataFrame'>\n",
      "Index: 525469 entries, 0 to 44639\n",
      "Data columns (total 4 columns):\n",
      " #   Column              Non-Null Count   Dtype \n",
      "---  ------              --------------   ----- \n",
      " 0   historianTagnummer  525469 non-null  object\n",
      " 1   hstWaarde           525469 non-null  object\n",
      " 2   datumBeginMeting    525469 non-null  object\n",
      " 3   datumEindeMeting    525469 non-null  object\n",
      "dtypes: object(4)\n",
      "memory usage: 20.0+ MB\n"
     ]
    },
    {
     "data": {
      "text/html": [
       "<div>\n",
       "<style scoped>\n",
       "    .dataframe tbody tr th:only-of-type {\n",
       "        vertical-align: middle;\n",
       "    }\n",
       "\n",
       "    .dataframe tbody tr th {\n",
       "        vertical-align: top;\n",
       "    }\n",
       "\n",
       "    .dataframe thead th {\n",
       "        text-align: right;\n",
       "    }\n",
       "</style>\n",
       "<table border=\"1\" class=\"dataframe\">\n",
       "  <thead>\n",
       "    <tr style=\"text-align: right;\">\n",
       "      <th></th>\n",
       "      <th>historianTagnummer</th>\n",
       "      <th>hstWaarde</th>\n",
       "      <th>datumBeginMeting</th>\n",
       "      <th>datumEindeMeting</th>\n",
       "    </tr>\n",
       "  </thead>\n",
       "  <tbody>\n",
       "    <tr>\n",
       "      <th>count</th>\n",
       "      <td>525469</td>\n",
       "      <td>525469</td>\n",
       "      <td>525469</td>\n",
       "      <td>525469</td>\n",
       "    </tr>\n",
       "    <tr>\n",
       "      <th>unique</th>\n",
       "      <td>1</td>\n",
       "      <td>17419</td>\n",
       "      <td>525409</td>\n",
       "      <td>525409</td>\n",
       "    </tr>\n",
       "    <tr>\n",
       "      <th>top</th>\n",
       "      <td>EDE_B121069913_K600.MTW</td>\n",
       "      <td>0.682</td>\n",
       "      <td>2021-10-31 02:21:00</td>\n",
       "      <td>2021-10-31 02:22:00</td>\n",
       "    </tr>\n",
       "    <tr>\n",
       "      <th>freq</th>\n",
       "      <td>525469</td>\n",
       "      <td>142</td>\n",
       "      <td>2</td>\n",
       "      <td>2</td>\n",
       "    </tr>\n",
       "  </tbody>\n",
       "</table>\n",
       "</div>"
      ],
      "text/plain": [
       "             historianTagnummer hstWaarde     datumBeginMeting  \\\n",
       "count                    525469    525469               525469   \n",
       "unique                        1     17419               525409   \n",
       "top     EDE_B121069913_K600.MTW     0.682  2021-10-31 02:21:00   \n",
       "freq                     525469       142                    2   \n",
       "\n",
       "           datumEindeMeting  \n",
       "count                525469  \n",
       "unique               525409  \n",
       "top     2021-10-31 02:22:00  \n",
       "freq                      2  "
      ]
     },
     "execution_count": 4,
     "metadata": {},
     "output_type": "execute_result"
    }
   ],
   "source": [
    "ammonium_df = pd.read_parquet('../data/Ammonium_measurements.parquet')\n",
    "\n",
    "ammonium_df.info()\n",
    "ammonium_df.describe()"
   ]
  },
  {
   "cell_type": "code",
   "execution_count": 3,
   "metadata": {},
   "outputs": [
    {
     "name": "stdout",
     "output_type": "stream",
     "text": [
      "<class 'pandas.core.frame.DataFrame'>\n",
      "Index: 525469 entries, 0 to 44639\n",
      "Data columns (total 4 columns):\n",
      " #   Column              Non-Null Count   Dtype \n",
      "---  ------              --------------   ----- \n",
      " 0   historianTagnummer  525469 non-null  object\n",
      " 1   hstWaarde           525469 non-null  object\n",
      " 2   datumBeginMeting    525469 non-null  object\n",
      " 3   datumEindeMeting    525469 non-null  object\n",
      "dtypes: object(4)\n",
      "memory usage: 20.0+ MB\n"
     ]
    },
    {
     "data": {
      "text/html": [
       "<div>\n",
       "<style scoped>\n",
       "    .dataframe tbody tr th:only-of-type {\n",
       "        vertical-align: middle;\n",
       "    }\n",
       "\n",
       "    .dataframe tbody tr th {\n",
       "        vertical-align: top;\n",
       "    }\n",
       "\n",
       "    .dataframe thead th {\n",
       "        text-align: right;\n",
       "    }\n",
       "</style>\n",
       "<table border=\"1\" class=\"dataframe\">\n",
       "  <thead>\n",
       "    <tr style=\"text-align: right;\">\n",
       "      <th></th>\n",
       "      <th>historianTagnummer</th>\n",
       "      <th>hstWaarde</th>\n",
       "      <th>datumBeginMeting</th>\n",
       "      <th>datumEindeMeting</th>\n",
       "    </tr>\n",
       "  </thead>\n",
       "  <tbody>\n",
       "    <tr>\n",
       "      <th>count</th>\n",
       "      <td>525469</td>\n",
       "      <td>525469</td>\n",
       "      <td>525469</td>\n",
       "      <td>525469</td>\n",
       "    </tr>\n",
       "    <tr>\n",
       "      <th>unique</th>\n",
       "      <td>1</td>\n",
       "      <td>9579</td>\n",
       "      <td>525409</td>\n",
       "      <td>525409</td>\n",
       "    </tr>\n",
       "    <tr>\n",
       "      <th>top</th>\n",
       "      <td>EDE_B121069914_K600.MTW</td>\n",
       "      <td>9.988</td>\n",
       "      <td>2021-10-31 02:21:00</td>\n",
       "      <td>2021-10-31 02:22:00</td>\n",
       "    </tr>\n",
       "    <tr>\n",
       "      <th>freq</th>\n",
       "      <td>525469</td>\n",
       "      <td>1803</td>\n",
       "      <td>2</td>\n",
       "      <td>2</td>\n",
       "    </tr>\n",
       "  </tbody>\n",
       "</table>\n",
       "</div>"
      ],
      "text/plain": [
       "             historianTagnummer hstWaarde     datumBeginMeting  \\\n",
       "count                    525469    525469               525469   \n",
       "unique                        1      9579               525409   \n",
       "top     EDE_B121069914_K600.MTW     9.988  2021-10-31 02:21:00   \n",
       "freq                     525469      1803                    2   \n",
       "\n",
       "           datumEindeMeting  \n",
       "count                525469  \n",
       "unique               525409  \n",
       "top     2021-10-31 02:22:00  \n",
       "freq                      2  "
      ]
     },
     "execution_count": 3,
     "metadata": {},
     "output_type": "execute_result"
    }
   ],
   "source": [
    "nitrate_df = pd.read_parquet('../data/Nitrate_measurements.parquet')\n",
    "\n",
    "nitrate_df.info()\n",
    "nitrate_df.describe()"
   ]
  }
 ],
 "metadata": {
  "kernelspec": {
   "display_name": "base",
   "language": "python",
   "name": "python3"
  },
  "language_info": {
   "codemirror_mode": {
    "name": "ipython",
    "version": 3
   },
   "file_extension": ".py",
   "mimetype": "text/x-python",
   "name": "python",
   "nbconvert_exporter": "python",
   "pygments_lexer": "ipython3",
   "version": "3.11.5"
  }
 },
 "nbformat": 4,
 "nbformat_minor": 2
}
