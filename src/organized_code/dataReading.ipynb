{
 "cells": [
  {
   "cell_type": "code",
   "execution_count": null,
   "metadata": {},
   "outputs": [],
   "source": [
    "import pandas as pd\n",
    "import numpy as np"
   ]
  },
  {
   "cell_type": "code",
   "execution_count": null,
   "metadata": {},
   "outputs": [],
   "source": [
    "def cleanData(df,substance):\n",
    "    df = df.drop(columns=['historianTagnummer'])\n",
    "    df.rename(columns={'hstWaarde': substance + 'Value'}, inplace=True)\n",
    "    df[substance + 'Value'] = df[substance + 'Value'].astype(float)\n",
    "    df = df.drop(columns=['datumBeginMeting'])\n",
    "    df['datumEindeMeting'] = pd.to_datetime(df['datumEindeMeting'])\n",
    "    df.rename(columns={'datumEindeMeting': 'measurementDate'}, inplace=True)\n",
    "    df.to_parquet('../../data/cleanedData/'+ substance +'.parquet', index=False)\n",
    "    pass"
   ]
  },
  {
   "cell_type": "code",
   "execution_count": null,
   "metadata": {},
   "outputs": [],
   "source": [
    "data_files = [\n",
    "    ('../../data/Ammonium_measurements.parquet', 'ammonium'),\n",
    "    ('../../data/Nitrate_measurements.parquet', 'nitrate'),\n",
    "    ('../../data/Oxygen_A.parquet', 'oxygenA'),\n",
    "    ('../../data/Oxygen_B.parquet', 'oxygenB'),\n",
    "    ('../../data/Phosphate_measurements.parquet', 'phosphate')\n",
    "]\n",
    "\n",
    "for file_path, var_name in data_files:\n",
    "    df = pd.read_parquet(file_path)\n",
    "    cleanData(df, var_name)"
   ]
  },
  {
   "cell_type": "code",
   "execution_count": null,
   "metadata": {},
   "outputs": [],
   "source": [
    "total = pd.read_csv('../../data/Total_influent_flow_WWTP_Ede_2021_minute_data.csv', sep=';')\n",
    "total.drop(columns=['wwResolution'],inplace=True)\n",
    "total['DateTime'] = pd.to_datetime(total['DateTime'])\n",
    "total.rename(columns={'EDE_09902MTW_K100.MTW':'waterFlowPerMinute','DateTime':'measurementDate'}, inplace=True)\n",
    "\n",
    "total['waterFlowPerMinute'] = total['waterFlowPerMinute'].str.replace(',','.').replace('(null)', np.nan)\n",
    "total['waterFlowPerMinute'] = total['waterFlowPerMinute'].astype('float')\n",
    "\n",
    "total = total.sort_values(by='measurementDate')\n",
    "total.to_parquet('../../data/shiftedDates/total.parquet',index=False)"
   ]
  },
  {
   "cell_type": "code",
   "execution_count": null,
   "metadata": {},
   "outputs": [],
   "source": [
    "print(total.info())\n",
    "print(total.describe())"
   ]
  },
  {
   "cell_type": "code",
   "execution_count": null,
   "metadata": {},
   "outputs": [],
   "source": [
    "phosphate = pd.read_parquet('../../data/cleanedData/phosphate.parquet')\n",
    "\n",
    "start_date = '2021-01-01 00:00:00'\n",
    "end_date = '2021-12-31 23:58:00'\n",
    "index = pd.date_range(start=start_date, end=end_date, freq='1min')\n",
    "phosphate = phosphate.set_index('measurementDate').reindex(index, fill_value=None)\n",
    "phosphate = phosphate.reset_index()\n",
    "phosphate.rename(columns={'index': 'measurementDate'}, inplace=True)\n",
    "phosphate.to_parquet('../../data/shiftedDates/phosphate.parquet')"
   ]
  }
 ],
 "metadata": {
  "kernelspec": {
   "display_name": "Python 3",
   "language": "python",
   "name": "python3"
  },
  "language_info": {
   "codemirror_mode": {
    "name": "ipython",
    "version": 3
   },
   "file_extension": ".py",
   "mimetype": "text/x-python",
   "name": "python",
   "nbconvert_exporter": "python",
   "pygments_lexer": "ipython3",
   "version": "3.11.8"
  }
 },
 "nbformat": 4,
 "nbformat_minor": 2
}
