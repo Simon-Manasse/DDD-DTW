{
 "cells": [
  {
   "cell_type": "code",
   "execution_count": null,
   "metadata": {},
   "outputs": [],
   "source": [
    "%run helperFunctions.ipynb"
   ]
  },
  {
   "cell_type": "code",
   "execution_count": null,
   "metadata": {},
   "outputs": [],
   "source": [
    "cleaned_data = [\n",
    "    ('../../data/cleanedData/ammonium.parquet', 'cleanedAmmonium'),\n",
    "    ('../../data/cleanedData/nitrate.parquet', 'cleanedNitrate'),\n",
    "    ('../../data/cleanedData/oxygenA.parquet', 'cleanedOxygenA'),\n",
    "    ('../../data/cleanedData/oxygenB.parquet', 'cleanedOxygenB'),\n",
    "]\n",
    "\n",
    "for path_file, name in cleaned_data:\n",
    "    df = pd.read_parquet(path_file)\n",
    "    shiftDates(df, name)"
   ]
  },
  {
   "cell_type": "code",
   "execution_count": null,
   "metadata": {},
   "outputs": [],
   "source": [
    "total = pd.read_parquet('../../data/shiftedDates/cleanedTotal.parquet')\n",
    "total.drop(436437)\n",
    "total.to_parquet('../../data/shiftedDates/cleanedTotal.parquet', index=False)"
   ]
  }
 ],
 "metadata": {
  "kernelspec": {
   "display_name": "Python 3",
   "language": "python",
   "name": "python3"
  },
  "language_info": {
   "codemirror_mode": {
    "name": "ipython",
    "version": 3
   },
   "file_extension": ".py",
   "mimetype": "text/x-python",
   "name": "python",
   "nbconvert_exporter": "python",
   "pygments_lexer": "ipython3",
   "version": "3.12.3"
  }
 },
 "nbformat": 4,
 "nbformat_minor": 2
}
