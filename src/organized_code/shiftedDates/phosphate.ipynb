{
 "cells": [
  {
   "cell_type": "code",
   "execution_count": null,
   "metadata": {},
   "outputs": [],
   "source": [
    "%run helperFunctions.ipynb"
   ]
  },
  {
   "cell_type": "code",
   "execution_count": null,
   "metadata": {},
   "outputs": [],
   "source": [
    "phosphate = pd.read_parquet('../../data/cleanedData/phosphate.parquet')\n",
    "\n",
    "start_date = '2021-01-01 00:00:00'\n",
    "end_date = '2021-12-31 23:58:00'\n",
    "index = pd.date_range(start=start_date, end=end_date, freq='1min')\n",
    "\n",
    "# Step 2: Reindex the 'phosphate' DataFrame using the DateTime index\n",
    "phosphate = phosphate.set_index('measurementDate').reindex(index, fill_value=None)\n",
    "\n",
    "# Reset index to make 'endDate' a column again\n",
    "phosphate = phosphate.reset_index()\n",
    "phosphate.rename(columns={'index': 'measurementDate'}, inplace=True)\n",
    "phosphate.to_parquet('../../data/shiftedDates/phosphate.parquet')"
   ]
  }
 ],
 "metadata": {
  "language_info": {
   "name": "python"
  }
 },
 "nbformat": 4,
 "nbformat_minor": 2
}
