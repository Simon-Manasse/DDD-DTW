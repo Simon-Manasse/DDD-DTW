{
 "cells": [
  {
   "cell_type": "code",
   "execution_count": 23,
   "metadata": {},
   "outputs": [],
   "source": [
    "import pandas as pd\n",
    "import numpy as np\n",
    "from datetime import timedelta"
   ]
  },
  {
   "cell_type": "code",
   "execution_count": 24,
   "metadata": {},
   "outputs": [],
   "source": [
    "def cleanData(df,substance):\n",
    "    df = df.drop(columns=['historianTagnummer'])\n",
    "    df.rename(columns={'hstWaarde': substance + 'Value'}, inplace=True)\n",
    "    df[substance + 'Value'] = df[substance + 'Value'].astype(float)\n",
    "    df = df.drop(columns=['datumBeginMeting'])\n",
    "    df['datumEindeMeting'] = pd.to_datetime(df['datumEindeMeting'])\n",
    "    df.rename(columns={'datumEindeMeting': 'measurementDate'}, inplace=True)\n",
    "    df.to_parquet('../../data/cleanedData/'+ substance +'.parquet', index=False)\n",
    "    pass"
   ]
  },
  {
   "cell_type": "code",
   "execution_count": 25,
   "metadata": {},
   "outputs": [],
   "source": [
    "def shiftDates(df, name):\n",
    "    duplicates = df[df.duplicated(subset='measurementDate', keep=False)].index.tolist()\n",
    "    marchDate = df.loc[df['measurementDate'] == '2021-03-28 03:00:00']\n",
    "    startTime = marchDate.index.values[0]\n",
    "    endTime = duplicates[-1]\n",
    "\n",
    "    for i in range(startTime, endTime + 1):\n",
    "        if i < (endTime - len(duplicates)):\n",
    "            df.loc[i, 'measurementDate'] -= timedelta(hours=1)\n",
    "        elif not ((i % 2) == 0):\n",
    "            df.loc[i, 'measurementDate'] -= timedelta(hours=1)\n",
    "    \n",
    "    df = df.sort_values(by='measurementDate')\n",
    "    df.to_parquet('../../data/shiftedDates/'+ name +'.parquet', index=False)\n",
    "    pass"
   ]
  },
  {
   "cell_type": "code",
   "execution_count": null,
   "metadata": {},
   "outputs": [],
   "source": [
    "# from joblib import Parallel, delayed\n",
    "# from datetime import timedelta\n",
    "\n",
    "# def shift_date(row, duplicates):\n",
    "#     if row.name < (endTime - len(duplicates)):\n",
    "#         row['measurementDate'] -= timedelta(hours=1)\n",
    "#     elif not ((row.name % 2) == 0):\n",
    "#         row['measurementDate'] -= timedelta(hours=1)\n",
    "#     return row\n",
    "\n",
    "# def shift_dates(df, name):\n",
    "#     duplicates = df[df.duplicated(subset='measurementDate', keep=False)].index.tolist()\n",
    "#     march_date = df.loc[df['measurementDate'] == '2021-03-28 03:00:00']\n",
    "#     start_time = march_date.index.values[0]\n",
    "#     end_time = duplicates[-1]\n",
    "\n",
    "#     num_cores = -1  # Use all available cores\n",
    "#     results = Parallel(n_jobs=num_cores)(\n",
    "#         delayed(shift_date)(row, duplicates) for _, row in df.iterrows()\n",
    "#     )\n",
    "\n",
    "#     df = pd.DataFrame(results)\n",
    "#     df = df.sort_values(by='measurementDate')\n",
    "#     df.to_parquet(f'../../data/shiftedDates/{name}.parquet', index=False)\n"
   ]
  }
 ],
 "metadata": {
  "kernelspec": {
   "display_name": "Python 3",
   "language": "python",
   "name": "python3"
  },
  "language_info": {
   "codemirror_mode": {
    "name": "ipython",
    "version": 3
   },
   "file_extension": ".py",
   "mimetype": "text/x-python",
   "name": "python",
   "nbconvert_exporter": "python",
   "pygments_lexer": "ipython3",
   "version": "3.12.3"
  }
 },
 "nbformat": 4,
 "nbformat_minor": 2
}
