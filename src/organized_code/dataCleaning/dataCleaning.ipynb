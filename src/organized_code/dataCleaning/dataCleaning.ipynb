{
 "cells": [
  {
   "cell_type": "code",
   "execution_count": 16,
   "metadata": {},
   "outputs": [],
   "source": [
    "%run helperFunctions.ipynb"
   ]
  },
  {
   "cell_type": "code",
   "execution_count": 17,
   "metadata": {},
   "outputs": [],
   "source": [
    "data_files = [\n",
    "    ('../../data/Ammonium_measurements.parquet', 'ammonium'),\n",
    "    ('../../data/Nitrate_measurements.parquet', 'nitrate'),\n",
    "    ('../../data/Oxygen_A.parquet', 'oxygenA'),\n",
    "    ('../../data/Oxygen_B.parquet', 'oxygenB'),\n",
    "    ('../../data/Phosphate_measurements.parquet', 'phosphate')\n",
    "]\n",
    "\n",
    "for file_path, var_name in data_files:\n",
    "    df = pd.read_parquet(file_path)\n",
    "    cleanData(df, var_name)"
   ]
  }
 ],
 "metadata": {
  "kernelspec": {
   "display_name": "Python 3",
   "language": "python",
   "name": "python3"
  },
  "language_info": {
   "codemirror_mode": {
    "name": "ipython",
    "version": 3
   },
   "file_extension": ".py",
   "mimetype": "text/x-python",
   "name": "python",
   "nbconvert_exporter": "python",
   "pygments_lexer": "ipython3",
   "version": "3.12.3"
  }
 },
 "nbformat": 4,
 "nbformat_minor": 2
}
