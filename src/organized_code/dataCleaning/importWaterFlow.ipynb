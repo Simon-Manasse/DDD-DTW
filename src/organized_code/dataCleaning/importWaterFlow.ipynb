{
 "cells": [
  {
   "cell_type": "code",
   "execution_count": null,
   "metadata": {},
   "outputs": [],
   "source": [
    "%run helperFunctions.ipynb"
   ]
  },
  {
   "cell_type": "code",
   "execution_count": null,
   "metadata": {},
   "outputs": [],
   "source": [
    "total = pd.read_csv('../../data/Total_influent_flow_WWTP_Ede_2021_minute_data.csv', sep=';')\n",
    "total.drop(columns=['wwResolution'],inplace=True)\n",
    "total['DateTime'] = pd.to_datetime(total['DateTime'])\n",
    "total.rename(columns={'EDE_09902MTW_K100.MTW':'waterFlowPerMinute','DateTime':'measurementDate'}, inplace=True)\n",
    "\n",
    "total['waterFlowPerMinute'] = total['waterFlowPerMinute'].str.replace(',','.').replace('(null)', np.nan)\n",
    "total['waterFlowPerMinute'] = total['waterFlowPerMinute'].astype('float')\n",
    "shiftDates(total,'total')\n"
   ]
  }
 ],
 "metadata": {
  "language_info": {
   "name": "python"
  }
 },
 "nbformat": 4,
 "nbformat_minor": 2
}
