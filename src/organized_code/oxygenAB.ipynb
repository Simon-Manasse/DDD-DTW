{
 "cells": [
  {
   "cell_type": "code",
   "execution_count": 23,
   "metadata": {},
   "outputs": [],
   "source": [
    "import pandas as pd\n",
    "import matplotlib as graph_maker"
   ]
  },
  {
   "cell_type": "code",
   "execution_count": 24,
   "metadata": {},
   "outputs": [],
   "source": [
    "oxygenA = pd.read_parquet(\"../../data/shiftedDates/cleanedOxygenA.parquet\")\n",
    "oxygenB = pd.read_parquet(\"../../data/shiftedDates/cleanedOxygenB.parquet\")\n"
   ]
  },
  {
   "cell_type": "code",
   "execution_count": 25,
   "metadata": {},
   "outputs": [],
   "source": [
    "def calculateOxygen(oxygenA, oxygenB):\n",
    "    if pd.isna(oxygenA):\n",
    "        oxygenA['oxygenAValue'].fillna(0)\n",
    "    elif pd.isna(oxygenB):\n",
    "        oxygenB['oxygenBValue'].fillna(0)\n",
    "    return (oxygenA + oxygenB)/2\n"
   ]
  },
  {
   "cell_type": "code",
   "execution_count": 26,
   "metadata": {},
   "outputs": [],
   "source": [
    "oxygenAB = pd.merge(oxygenA, oxygenB, how=\"right\")\n",
    "oxygenAB['oxygenAValue'] = oxygenAB['oxygenAValue'].fillna(0)\n",
    "oxygenAB['oxygenBValue'] = oxygenAB['oxygenBValue'].fillna(0)"
   ]
  },
  {
   "cell_type": "code",
   "execution_count": 27,
   "metadata": {},
   "outputs": [],
   "source": [
    "oxygenAB[\"oxygenValue\"] = oxygenAB.apply(lambda col: calculateOxygen(col[\"oxygenAValue\"], col[\"oxygenBValue\"]), axis=1)\n",
    "oxygenAB.drop([\"oxygenAValue\", \"oxygenBValue\"], axis=1, inplace=True)"
   ]
  },
  {
   "cell_type": "code",
   "execution_count": 28,
   "metadata": {},
   "outputs": [],
   "source": [
    "oxygen_val_col = oxygenAB.pop(\"oxygenValue\")\n",
    "oxygenAB.insert(0, \"oxygenValue\", oxygen_val_col)"
   ]
  },
  {
   "cell_type": "code",
   "execution_count": 29,
   "metadata": {},
   "outputs": [],
   "source": [
    "oxygenAB.to_parquet('../../data/shiftedDates/oxygenAB.parquet')"
   ]
  }
 ],
 "metadata": {
  "kernelspec": {
   "display_name": "Python 3",
   "language": "python",
   "name": "python3"
  },
  "language_info": {
   "codemirror_mode": {
    "name": "ipython",
    "version": 3
   },
   "file_extension": ".py",
   "mimetype": "text/x-python",
   "name": "python",
   "nbconvert_exporter": "python",
   "pygments_lexer": "ipython3",
   "version": "3.11.8"
  }
 },
 "nbformat": 4,
 "nbformat_minor": 2
}
