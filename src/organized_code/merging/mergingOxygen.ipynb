{
 "cells": [
  {
   "cell_type": "code",
   "execution_count": null,
   "metadata": {},
   "outputs": [],
   "source": [
    "%run helperFunctions.ipynb"
   ]
  },
  {
   "cell_type": "code",
   "execution_count": null,
   "metadata": {},
   "outputs": [],
   "source": [
    "import matplotlib as graph_maker"
   ]
  },
  {
   "cell_type": "code",
   "execution_count": null,
   "metadata": {},
   "outputs": [],
   "source": [
    "oxygenA = pd.read_parquet(\"../../data/cleanedData/oxygenA.parquet\")"
   ]
  },
  {
   "cell_type": "code",
   "execution_count": null,
   "metadata": {},
   "outputs": [],
   "source": [
    "oxygenB = pd.read_parquet(\"../../data/cleanedData/oxygenB.parquet\")"
   ]
  },
  {
   "cell_type": "code",
   "execution_count": null,
   "metadata": {},
   "outputs": [],
   "source": [
    "def calculateOxygen(oxygenA, oxygenB):\n",
    "    if pd.isna(oxygenA):\n",
    "        oxygenA['oxygenAValue'].fillna(0)\n",
    "    elif pd.isna(oxygenB):\n",
    "        oxygenB['oxygenBValue'].fillna(0)\n",
    "    return (oxygenA + oxygenB)/2\n"
   ]
  },
  {
   "cell_type": "code",
   "execution_count": null,
   "metadata": {},
   "outputs": [],
   "source": [
    "oxygenAB = pd.merge(oxygenA, oxygenB, how=\"right\")\n",
    "oxygenAB['oxygenAValue'] = oxygenAB['oxygenAValue'].fillna(0)\n",
    "oxygenAB['oxygenBValue'] = oxygenAB['oxygenBValue'].fillna(0)\n",
    "oxygenAB.tail()"
   ]
  },
  {
   "cell_type": "code",
   "execution_count": null,
   "metadata": {},
   "outputs": [],
   "source": [
    "\n",
    "oxygenAB[\"oxygenValue\"] = oxygenAB.apply(lambda col: calculateOxygen(col[\"oxygenAValue\"], col[\"oxygenBValue\"]), axis=1)\n",
    "oxygenAB.drop([\"oxygenAValue\", \"oxygenBValue\"], axis=1, inplace=True)\n"
   ]
  },
  {
   "cell_type": "code",
   "execution_count": null,
   "metadata": {},
   "outputs": [],
   "source": [
    "\n",
    "# oxygen_val_col = oxygenAB.pop(\"oxygenValue\")\n",
    "\n",
    "# oxygenAB.insert(0, \"oxygenValue\", oxygen_val_col)\n",
    "\n",
    "# oxygenAB.info()"
   ]
  },
  {
   "cell_type": "code",
   "execution_count": null,
   "metadata": {},
   "outputs": [],
   "source": [
    "# oxygenAB[\"oxygenValue\"].plot.box().set_title(\"Oxygen values in both tanks\")"
   ]
  },
  {
   "cell_type": "code",
   "execution_count": null,
   "metadata": {},
   "outputs": [],
   "source": [
    "# oxygenAB[\"oxygenValue\"].plot.hist().set_title(\"Oxygen values and their frequency\")"
   ]
  },
  {
   "cell_type": "code",
   "execution_count": null,
   "metadata": {},
   "outputs": [],
   "source": [
    "# oxygenAB"
   ]
  },
  {
   "cell_type": "code",
   "execution_count": null,
   "metadata": {},
   "outputs": [],
   "source": [
    "# oxygenAB[\"oxygenValue\"].describe()"
   ]
  },
  {
   "cell_type": "code",
   "execution_count": null,
   "metadata": {},
   "outputs": [],
   "source": [
    "oxygenAB.to_parquet('../../data/shiftedDates/oxygenAB.parquet')"
   ]
  }
 ],
 "metadata": {
  "kernelspec": {
   "display_name": "Python 3",
   "language": "python",
   "name": "python3"
  },
  "language_info": {
   "name": "python",
   "version": "3.12.3"
  }
 },
 "nbformat": 4,
 "nbformat_minor": 2
}
