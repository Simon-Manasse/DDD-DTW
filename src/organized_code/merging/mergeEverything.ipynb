{
 "cells": [
  {
   "cell_type": "code",
   "execution_count": null,
   "metadata": {},
   "outputs": [],
   "source": [
    "%run helperFunctions.ipynb"
   ]
  },
  {
   "cell_type": "code",
   "execution_count": null,
   "metadata": {},
   "outputs": [],
   "source": [
    "import pandas as pd\n",
    "from functools import reduce\n",
    "import random"
   ]
  },
  {
   "cell_type": "code",
   "execution_count": null,
   "metadata": {},
   "outputs": [],
   "source": [
    "precepitation = pd.read_csv('../../data/precipitation.csv')\n",
    "precepitation.rename(columns={'time':'measurementDate','precipitation (mm)':'precipitation'},inplace=True)\n",
    "precepitation.drop(columns=['rain (mm)'],inplace=True)\n",
    "precepitation['measurementDate'] = pd.to_datetime(precepitation['measurementDate'])\n",
    "precepitation.to_parquet('../../data/shiftedDates/precipitation.parquet', index=False)"
   ]
  },
  {
   "cell_type": "code",
   "execution_count": null,
   "metadata": {},
   "outputs": [],
   "source": [
    "file_paths = [\n",
    "              '../../data/shiftedDates/oxygenAB.parquet',\n",
    "              '../../data/shiftedDates/cleanedNitrate.parquet',\n",
    "              '../../data/cleanedData/phosphate.parquet',\n",
    "              '../../data/shiftedDates/cleanedAmmonium.parquet',\n",
    "              '../../data/shiftedDates/cleanedTotal.parquet',\n",
    "              '../../data/shiftedDates/precipitation.parquet'\n",
    "              ]\n",
    "\n",
    "dfs = [pd.read_parquet(path) for path in file_paths]"
   ]
  },
  {
   "cell_type": "code",
   "execution_count": null,
   "metadata": {},
   "outputs": [],
   "source": [
    "\n",
    "merged = reduce(lambda left, right: pd.merge(left, right, how='outer', on='measurementDate'), dfs)\n",
    "merged['phosphateValue'] = merged['phosphateValue'].map(lambda phosphate: -999 if pd.isnull(phosphate) else phosphate)"
   ]
  },
  {
   "cell_type": "code",
   "execution_count": null,
   "metadata": {},
   "outputs": [],
   "source": [
    "precepitationIndex=0\n",
    "for row in merged['precipitation']:\n",
    "    if not pd.isnull(row):\n",
    "        # print(row)\n",
    "        valuePerMinute = row/60\n",
    "        if precepitationIndex < 60:\n",
    "            merged['precipitation'][:precepitationIndex] = valuePerMinute\n",
    "        else:\n",
    "            merged['precipitation'][precepitationIndex-60:precepitationIndex] = valuePerMinute\n",
    "    precepitationIndex+=1\n",
    "\n"
   ]
  },
  {
   "cell_type": "code",
   "execution_count": null,
   "metadata": {},
   "outputs": [],
   "source": [
    "# for percipitation in df['percipiation']\n",
    "#  if percipitation != null\n",
    "#     val = percipitoan/60\n",
    "#     df['precipitation'][precitpitation.index-60:precepitation.index] = val\n"
   ]
  },
  {
   "cell_type": "code",
   "execution_count": null,
   "metadata": {},
   "outputs": [],
   "source": [
    "merged.to_parquet('../../data/cleanedData/allData.parquet')"
   ]
  }
 ],
 "metadata": {
  "language_info": {
   "name": "python"
  }
 },
 "nbformat": 4,
 "nbformat_minor": 2
}
