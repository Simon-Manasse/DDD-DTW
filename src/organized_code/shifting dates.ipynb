{
 "cells": [
  {
   "cell_type": "code",
   "execution_count": 25,
   "metadata": {},
   "outputs": [],
   "source": [
    "import pandas as pd\n",
    "import numpy as np\n",
    "from datetime import timedelta"
   ]
  },
  {
   "cell_type": "code",
   "execution_count": 26,
   "metadata": {},
   "outputs": [],
   "source": [
    "def shiftDates(df, name):\n",
    "    duplicates = df[df.duplicated(subset='measurementDate', keep=False)].index.tolist()\n",
    "    marchDate = df.loc[df['measurementDate'] == '2021-03-28 03:00:00']\n",
    "    startTime = marchDate.index.values[0]\n",
    "    endTime = duplicates[-1]\n",
    "\n",
    "    for i in range(startTime, endTime + 1):\n",
    "        if i < (endTime - len(duplicates)):\n",
    "            df.loc[i, 'measurementDate'] -= timedelta(hours=1)\n",
    "        elif not ((i % 2) == 0):\n",
    "            df.loc[i, 'measurementDate'] -= timedelta(hours=1)\n",
    "    \n",
    "    df = df.sort_values(by='measurementDate')\n",
    "    df.to_parquet('../../data/shiftedDates/'+ name +'.parquet', index=False)\n",
    "    pass"
   ]
  },
  {
   "cell_type": "code",
   "execution_count": 27,
   "metadata": {},
   "outputs": [],
   "source": [
    "cleaned_data = [\n",
    "    ('../../data/cleanedData/ammonium.parquet', 'cleanedAmmonium'),\n",
    "    ('../../data/cleanedData/nitrate.parquet', 'cleanedNitrate'),\n",
    "    ('../../data/cleanedData/oxygenA.parquet', 'cleanedOxygenA'),\n",
    "    ('../../data/cleanedData/oxygenB.parquet', 'cleanedOxygenB'),\n",
    "    ('../../data/shiftedDates/total.parquet', 'total'),\n",
    "]\n",
    "\n",
    "for path_file, name in cleaned_data:\n",
    "    df = pd.read_parquet(path_file)\n",
    "    shiftDates(df, name)"
   ]
  },
  {
   "cell_type": "code",
   "execution_count": 28,
   "metadata": {},
   "outputs": [],
   "source": [
    "water = pd.read_parquet('../../data/shiftedDates/total.parquet')\n",
    "water.drop(water.index[436437], inplace=True)\n",
    "water.to_parquet('../../data/shiftedDates/total.parquet')"
   ]
  }
 ],
 "metadata": {
  "kernelspec": {
   "display_name": "Python 3",
   "language": "python",
   "name": "python3"
  },
  "language_info": {
   "codemirror_mode": {
    "name": "ipython",
    "version": 3
   },
   "file_extension": ".py",
   "mimetype": "text/x-python",
   "name": "python",
   "nbconvert_exporter": "python",
   "pygments_lexer": "ipython3",
   "version": "3.11.8"
  }
 },
 "nbformat": 4,
 "nbformat_minor": 2
}
