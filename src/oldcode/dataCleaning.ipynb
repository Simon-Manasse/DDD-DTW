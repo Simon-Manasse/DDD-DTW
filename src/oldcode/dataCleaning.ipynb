{
 "cells": [
  {
   "cell_type": "code",
   "execution_count": 8,
   "metadata": {},
   "outputs": [],
   "source": [
    "import pandas as pd\n",
    "import numpy as np\n",
    "from datetime import timedelta"
   ]
  },
  {
   "cell_type": "code",
   "execution_count": 9,
   "metadata": {},
   "outputs": [],
   "source": [
    "def cleanData(df,substance):\n",
    "    df = df.drop(columns=['historianTagnummer'])\n",
    "    df.rename(columns={'hstWaarde': substance + 'Value'}, inplace=True)\n",
    "    df[substance + 'Value'] = df[substance + 'Value'].astype(float)\n",
    "    df = df.drop(columns=['datumBeginMeting'])\n",
    "    df['datumEindeMeting'] = pd.to_datetime(df['datumEindeMeting'])\n",
    "    df.rename(columns={'datumEindeMeting': 'measurementDate'}, inplace=True)\n",
    "    df.to_parquet('../data/cleanedData/'+ substance +'.parquet', index=False)\n",
    "    pass"
   ]
  },
  {
   "cell_type": "code",
   "execution_count": 10,
   "metadata": {},
   "outputs": [],
   "source": [
    "data_files = [\n",
    "    ('../data/Ammonium_measurements.parquet', 'ammonium'),\n",
    "    ('../data/Nitrate_measurements.parquet', 'nitrate'),\n",
    "    ('../data/Oxygen_A.parquet', 'oxygenA'),\n",
    "    ('../data/Oxygen_B.parquet', 'oxygenB'),\n",
    "    ('../data/Phosphate_measurements.parquet', 'phosphate')\n",
    "]\n",
    "\n",
    "for file_path, var_name in data_files:\n",
    "    df = pd.read_parquet(file_path)\n",
    "    cleanData(df, var_name)"
   ]
  },
  {
   "cell_type": "code",
   "execution_count": 11,
   "metadata": {},
   "outputs": [],
   "source": [
    "with open('../data/Total_influent_flow_WWTP_Ede_2021_minute_data.csv', 'r') as file:\n",
    "    lines = file.readlines()\n",
    "\n",
    "with open('../data/cleanedData/total.csv', 'w') as file:\n",
    "    for line in lines:\n",
    "        modified_line = line.replace(';60000', '')\n",
    "        file.write(modified_line)\n",
    "\n",
    "finalTotal = pd.read_csv('../data/cleanedData/total.csv', sep=';')\n",
    "finalTotal['DateTime'] = pd.to_datetime(finalTotal['DateTime'], dayfirst=True)\n",
    "finalTotal.rename(columns={'DateTime': 'measurementDate'}, inplace=True)\n",
    "finalTotal.to_csv('../data/cleanedData/total.csv', sep=';' ,index=False)"
   ]
  },
  {
   "cell_type": "code",
   "execution_count": 12,
   "metadata": {},
   "outputs": [],
   "source": [
    "def shiftDates(df, name):\n",
    "    duplicates = df[df.duplicated(subset='measurementDate', keep=False)].index.tolist()\n",
    "    marchDate = df.loc[df['measurementDate'] == '2021-03-28 03:00:00']\n",
    "    startTime = marchDate.index.values[0]\n",
    "    endTime = duplicates[-1]\n",
    "\n",
    "    for i in range(startTime, endTime + 1):\n",
    "        if i < (endTime - len(duplicates)):\n",
    "            df.loc[i, 'measurementDate'] -= timedelta(hours=1)\n",
    "        elif not ((i % 2) == 0):\n",
    "            df.loc[i, 'measurementDate'] -= timedelta(hours=1)\n",
    "    \n",
    "    df = df.sort_values(by='measurementDate')\n",
    "    df.to_parquet('../data/shiftedDates/'+ name +'.parquet', index=False)\n",
    "    pass"
   ]
  },
  {
   "cell_type": "code",
   "execution_count": 13,
   "metadata": {},
   "outputs": [],
   "source": [
    "cleaned_data = [\n",
    "    ('../data/cleanedData/ammonium.parquet', 'cleanedAmmonium'),\n",
    "    ('../data/cleanedData/nitrate.parquet', 'cleanedNitrate'),\n",
    "    ('../data/cleanedData/oxygenA.parquet', 'cleanedOxygenA'),\n",
    "    ('../data/cleanedData/oxygenB.parquet', 'cleanedOxygenB'),\n",
    "    ('../data/cleanedData/total.parquet', 'total'),\n",
    "]\n",
    "\n",
    "for path_file, name in cleaned_data:\n",
    "    df = pd.read_parquet(path_file)\n",
    "    shiftDates(df, name)"
   ]
  },
  {
   "cell_type": "code",
   "execution_count": 16,
   "metadata": {},
   "outputs": [],
   "source": [
    "phosphate = pd.read_parquet('../data/cleanedData/phosphate.parquet')\n",
    "\n",
    "start_date = '2021-01-01 00:00:00'\n",
    "end_date = '2021-12-31 23:58:00'\n",
    "index = pd.date_range(start=start_date, end=end_date, freq='1min')\n",
    "\n",
    "# Step 2: Reindex the 'phosphate' DataFrame using the DateTime index\n",
    "phosphate = phosphate.set_index('measurementDate').reindex(index, fill_value=None)\n",
    "\n",
    "# Reset index to make 'endDate' a column again\n",
    "phosphate = phosphate.reset_index()\n",
    "phosphate.rename(columns={'index': 'measurementDate'}, inplace=True)\n",
    "phosphate.to_parquet('../data/cleanedData/phosphate.parquet')"
   ]
  },
  {
   "cell_type": "code",
   "execution_count": 15,
   "metadata": {},
   "outputs": [],
   "source": [
    "total = pd.read_csv('../data/Total_influent_flow_WWTP_Ede_2021_minute_data.csv', sep=';')\n",
    "total.drop(columns=['wwResolution'],inplace=True)\n",
    "total['DateTime'] = pd.to_datetime(total['DateTime'])\n",
    "total.rename(columns={'EDE_09902MTW_K100.MTW':'waterFlowPerMinute','DateTime':'measurementDate'}, inplace=True)\n",
    "\n",
    "total['waterFlowPerMinute'] = total['waterFlowPerMinute'].str.replace(',','.').replace('(null)', np.nan)\n",
    "total['waterFlowPerMinute'] = total['waterFlowPerMinute'].astype('float')\n",
    "shiftDates(total,'total')\n"
   ]
  }
 ],
 "metadata": {
  "kernelspec": {
   "display_name": "Python 3",
   "language": "python",
   "name": "python3"
  },
  "language_info": {
   "codemirror_mode": {
    "name": "ipython",
    "version": 3
   },
   "file_extension": ".py",
   "mimetype": "text/x-python",
   "name": "python",
   "nbconvert_exporter": "python",
   "pygments_lexer": "ipython3",
   "version": "3.12.3"
  }
 },
 "nbformat": 4,
 "nbformat_minor": 2
}
