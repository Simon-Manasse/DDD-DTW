{
 "cells": [
  {
   "cell_type": "code",
   "execution_count": null,
   "metadata": {},
   "outputs": [],
   "source": [
    "import pandas as pd"
   ]
  },
  {
   "cell_type": "markdown",
   "metadata": {},
   "source": [
    "Understanding Ammonium data"
   ]
  },
  {
   "cell_type": "code",
   "execution_count": null,
   "metadata": {},
   "outputs": [],
   "source": [
    "ammonium_df = pd.read_parquet('../data/Ammonium_measurements.parquet')\n",
    "\n",
    "ammonium_df['hstWaarde'] = ammonium_df['hstWaarde'].astype(float)\n",
    "ammonium_df.head()\n",
    "ammonium_df.info()\n",
    "ammonium_df.describe()\n",
    "ammonium_df.describe(include=['O'])\n",
    "ammonium_df.shape"
   ]
  },
  {
   "cell_type": "markdown",
   "metadata": {},
   "source": [
    "Understanding Nitrate data"
   ]
  },
  {
   "cell_type": "code",
   "execution_count": null,
   "metadata": {},
   "outputs": [],
   "source": [
    "nitrate_df = pd.read_parquet('../data/Nitrate_measurements.parquet')\n",
    "\n",
    "nitrate_df['hstWaarde'] = nitrate_df['hstWaarde'].astype(float)\n",
    "nitrate_df.head()\n",
    "nitrate_df.info()\n",
    "nitrate_df.describe()\n",
    "nitrate_df.describe(include=['O'])\n",
    "nitrate_df.shape"
   ]
  },
  {
   "cell_type": "markdown",
   "metadata": {},
   "source": [
    "Understanding Influent flow data"
   ]
  },
  {
   "cell_type": "code",
   "execution_count": null,
   "metadata": {},
   "outputs": [],
   "source": [
    "influent_df = pd.read_csv('../data/Total_influent_flow_WWTP_Ede_2021_minute_data.csv', sep=\";\")\n",
    "\n",
    "influent_df.head()\n",
    "influent_df.info()\n",
    "influent_df.describe()\n",
    "nitrate_df.describe(include=['O'])\n",
    "influent_df.shape"
   ]
  },
  {
   "cell_type": "markdown",
   "metadata": {},
   "source": [
    "Understanding OxygenA data"
   ]
  },
  {
   "cell_type": "code",
   "execution_count": null,
   "metadata": {},
   "outputs": [],
   "source": [
    "oxygenA_df = pd.read_parquet('../data/Oxygen_A.parquet')\n",
    "\n",
    "oxygenA_df['hstWaarde'] = oxygenA_df['hstWaarde'].astype(float)\n",
    "oxygenA_df.head() \n",
    "oxygenA_df.info()\n",
    "oxygenA_df.describe()\n",
    "oxygenA_df.describe(include=['O'])\n",
    "oxygenA_df.shape"
   ]
  },
  {
   "cell_type": "markdown",
   "metadata": {},
   "source": [
    "Understanding OxygenB data"
   ]
  },
  {
   "cell_type": "code",
   "execution_count": null,
   "metadata": {},
   "outputs": [],
   "source": [
    "oxygenB_df = pd.read_parquet('../data/Oxygen_B.parquet')\n",
    "\n",
    "oxygenB_df['hstWaarde'] = oxygenB_df['hstWaarde'].astype('float')\n",
    "oxygenB_df.info()\n",
    "oxygenB_df.describe(include=['O'])\n",
    "oxygenB_df.describe()\n",
    "oxygenB_df.shape"
   ]
  },
  {
   "cell_type": "markdown",
   "metadata": {},
   "source": [
    "Understanding Phosphate data "
   ]
  },
  {
   "cell_type": "code",
   "execution_count": null,
   "metadata": {},
   "outputs": [],
   "source": [
    "phosphate_df = pd.read_parquet('../data/Phosphate_measurements.parquet')\n",
    "\n",
    "phosphate_df['hstWaarde'] = phosphate_df['hstWaarde'].astype(float)\n",
    "phosphate_df.head()\n",
    "phosphate_df.info()\n",
    "phosphate_df.describe()\n",
    "phosphate_df.describe(include=['O'])\n",
    "phosphate_df.shape\n"
   ]
  },
  {
   "cell_type": "markdown",
   "metadata": {},
   "source": [
    "Understanding Effluent data"
   ]
  },
  {
   "cell_type": "code",
   "execution_count": null,
   "metadata": {},
   "outputs": [],
   "source": [
    "effluent_df = pd.read_csv('../data/Effluent_15min.csv')\n",
    "\n",
    "effluent_df['eff_debiet'] = pd.to_numeric(effluent_df['eff_debiet'], errors='coerce')\n",
    "effluent_df['eff_po4'] = pd.to_numeric(effluent_df['eff_po4'], errors='coerce')\n",
    "effluent_df['eff_nh4'] = pd.to_numeric(effluent_df['eff_nh4'], errors='coerce')\n",
    "\n",
    "effluent_df.head()\n",
    "effluent_df.info()\n",
    "effluent_df.describe()\n",
    "effluent_df.describe(include=['O'])\n",
    "effluent_df.shape"
   ]
  },
  {
   "cell_type": "code",
   "execution_count": null,
   "metadata": {},
   "outputs": [],
   "source": [
    "def rename(df,substance):\n",
    "    df.rename(columns={'hstWaarde':substance}, inplace=True)\n",
    "    df.drop(columns=['historianTagnummer','datumBeginMeting'],inplace=True)\n",
    "    pass\n",
    "\n",
    "rename(oxygenA_df,'oxygenA')\n",
    "rename(oxygenB_df,'oxygenB')\n",
    "rename(nitrate_df,'nitrate')\n",
    "rename(ammonium_df,'ammonium')\n",
    "rename(phosphate_df,'phosphate_df')\n",
    "\n",
    "merged = pd.merge(oxygenA_df,oxygenB_df,how='inner',on='datumEindeMeting')\n",
    "merged = pd.merge(merged,nitrate_df,how='inner',on='datumEindeMeting')\n",
    "merged = pd.merge(merged,ammonium_df,how='inner',on='datumEindeMeting')\n",
    "merged = pd.merge(merged,phosphate_df,how='inner',on='datumEindeMeting')\n",
    "merged"
   ]
  },
  {
   "cell_type": "code",
   "execution_count": null,
   "metadata": {},
   "outputs": [],
   "source": [
    "import seaborn as sns\n",
    "sns.heatmap(merged.corr(), annot=True, cmap='viridis', fmt=\".2f\")"
   ]
  }
 ],
 "metadata": {
  "kernelspec": {
   "display_name": "base",
   "language": "python",
   "name": "python3"
  },
  "language_info": {
   "codemirror_mode": {
    "name": "ipython",
    "version": 3
   },
   "file_extension": ".py",
   "mimetype": "text/x-python",
   "name": "python",
   "nbconvert_exporter": "python",
   "pygments_lexer": "ipython3",
   "version": "3.12.3"
  }
 },
 "nbformat": 4,
 "nbformat_minor": 2
}
