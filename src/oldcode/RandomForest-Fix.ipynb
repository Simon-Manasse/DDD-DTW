{
 "cells": [
  {
   "cell_type": "markdown",
   "metadata": {},
   "source": [
    "# Import df"
   ]
  },
  {
   "cell_type": "code",
   "execution_count": null,
   "metadata": {},
   "outputs": [],
   "source": [
    "import pandas as pd\n",
    "import numpy as np\n",
    "import matplotlib.pyplot as plt\n",
    "from sklearn.metrics import root_mean_squared_error, r2_score,mean_absolute_error\n",
    "from sklearn.preprocessing import StandardScaler\n",
    "import seaborn as sns\n",
    "import xgboost as xgb\n",
    "from sklearn.model_selection import TimeSeriesSplit\n",
    "from sklearn.model_selection import GridSearchCV\n",
    "from sklearn.tree import export_graphviz\n",
    "from xgboost import plot_tree"
   ]
  },
  {
   "cell_type": "code",
   "execution_count": null,
   "metadata": {},
   "outputs": [],
   "source": [
    "df = pd.read_parquet('../data/cleanedData/allData.parquet')\n",
    "df.set_index('measurementDate', inplace=True)\n",
    "df.dropna(inplace=True)\n",
    "\n"
   ]
  },
  {
   "cell_type": "markdown",
   "metadata": {},
   "source": []
  },
  {
   "cell_type": "code",
   "execution_count": null,
   "metadata": {},
   "outputs": [],
   "source": [
    "plt.figure(figsize=(20,10))\n",
    "plt.plot(df.index, df['oxygenValue'])\n",
    "plt.title(\"Oxygen values throughout the year\")\n",
    "plt.xlabel(\"Time of the year\")\n",
    "plt.ylabel(\"Oxygen values\")\n",
    "plt.show()"
   ]
  },
  {
   "cell_type": "markdown",
   "metadata": {},
   "source": [
    "# ! Time test Split !"
   ]
  },
  {
   "cell_type": "code",
   "execution_count": null,
   "metadata": {},
   "outputs": [],
   "source": [
    "train = df.loc[df.index<'2021-10-01']\n",
    "test = df.loc[df.index>='2021-10-01']\n",
    "\n",
    "fig, ax = plt.subplots(figsize=(20,10))\n",
    "plt.plot(train.index,train['oxygenValue'])\n",
    "plt.plot(test.index,test['oxygenValue'])\n",
    "ax.axvline(pd.to_datetime('2021-10-01'),color='black', ls='--')\n",
    "plt.title(\"Distribution of train and test sets\")\n",
    "plt.legend(['Training Set','Test Set'])\n",
    "plt.show()"
   ]
  },
  {
   "cell_type": "code",
   "execution_count": null,
   "metadata": {},
   "outputs": [],
   "source": [
    "day = df.loc[(df.index > '2021-10-01') & (df.index < '2021-10-02')]\n",
    "\n",
    "plt.figure(figsize=(20,10))\n",
    "plt.title(\"Oxygen values over a day\")\n",
    "plt.plot(day.index,day['oxygenValue'])\n",
    "plt.xlabel('Hours of the day')\n",
    "plt.ylabel('Oxygen values')\n",
    "plt.legend([\"Oxygen\"])"
   ]
  },
  {
   "cell_type": "markdown",
   "metadata": {},
   "source": [
    "# Feature Creation"
   ]
  },
  {
   "cell_type": "code",
   "execution_count": null,
   "metadata": {},
   "outputs": [],
   "source": [
    "def create_features(df):\n",
    "    df = df.copy()\n",
    "    df['minute'] =df.index.minute\n",
    "    df['hour'] = df.index.hour\n",
    "    df['dayofweek']=df.index.dayofweek\n",
    "    df['quarter']=df.index.quarter\n",
    "    df['month']=df.index.month\n",
    "    return df\n",
    "\n",
    "df = create_features(df)\n",
    "df['oxygenValue']"
   ]
  },
  {
   "cell_type": "code",
   "execution_count": null,
   "metadata": {},
   "outputs": [],
   "source": [
    "plt.figure(figsize=(20,10))\n",
    "sns.boxplot(data=df,x='month', y='oxygenValue') \n",
    "plt.title('Oxygen values per month')\n",
    "plt.xlabel(\"Month\")\n",
    "plt.ylabel(\"Value of oxygen\")"
   ]
  },
  {
   "cell_type": "markdown",
   "metadata": {},
   "source": [
    "# Distribution across periods"
   ]
  },
  {
   "cell_type": "code",
   "execution_count": null,
   "metadata": {},
   "outputs": [],
   "source": [
    "plt.figure(figsize=(20,10))\n",
    "sns.boxplot(data=df,x='hour',y='oxygenValue')\n",
    "plt.title('Oxygen values per hour')\n",
    "plt.xlabel(\"Hour\")\n",
    "plt.ylabel(\"Value of oxygen\")"
   ]
  },
  {
   "cell_type": "code",
   "execution_count": null,
   "metadata": {},
   "outputs": [],
   "source": [
    "plt.figure(figsize=(20,10))\n",
    "sns.boxplot(data=df,x='minute',y='oxygenValue')\n",
    "plt.title('Oxygen values per minute')\n",
    "plt.xlabel(\"minute\")\n",
    "plt.ylabel(\"Value of oxygen\")"
   ]
  },
  {
   "cell_type": "markdown",
   "metadata": {},
   "source": [
    "# Lag Features"
   ]
  },
  {
   "cell_type": "code",
   "execution_count": null,
   "metadata": {},
   "outputs": [],
   "source": [
    "target_map = df['oxygenValue'].to_dict()"
   ]
  },
  {
   "cell_type": "code",
   "execution_count": null,
   "metadata": {},
   "outputs": [],
   "source": [
    "def add_lags(df):\n",
    "    df['lag_1']=(df.index - pd.Timedelta('1 day')).map(target_map)\n",
    "    df['lag_2']=(df.index - pd.Timedelta('2 day')).map(target_map)\n",
    "    df['lag_3']=(df.index - pd.Timedelta('3 day')).map(target_map)\n",
    "    return df"
   ]
  },
  {
   "cell_type": "code",
   "execution_count": null,
   "metadata": {},
   "outputs": [],
   "source": [
    "df= add_lags(df)"
   ]
  },
  {
   "cell_type": "markdown",
   "metadata": {},
   "source": [
    "# Creating a model"
   ]
  },
  {
   "cell_type": "code",
   "execution_count": null,
   "metadata": {},
   "outputs": [],
   "source": [
    "train = create_features(train)\n",
    "test = create_features(test)"
   ]
  },
  {
   "cell_type": "code",
   "execution_count": null,
   "metadata": {},
   "outputs": [],
   "source": [
    "FEATURES = ['nitrateValue', 'phosphateValue', 'ammoniumValue',\n",
    "       'waterFlowPerMinute', 'precipitation', 'minute', 'hour', 'dayofweek',\n",
    "       'quarter', 'month']\n",
    "TARGET = 'oxygenValue'"
   ]
  },
  {
   "cell_type": "code",
   "execution_count": null,
   "metadata": {},
   "outputs": [],
   "source": [
    "X_train, y_train = train[FEATURES], train[TARGET]\n",
    "X_test, y_test = test[FEATURES], test[TARGET]"
   ]
  },
  {
   "cell_type": "code",
   "execution_count": null,
   "metadata": {},
   "outputs": [],
   "source": [
    "\n",
    "paramsRF = {\n",
    "  \"colsample_bynode\": 0.9,\n",
    "  \"learning_rate\":0.8,\n",
    "  \"max_depth\": 9,\n",
    "  \"num_parallel_tree\": 150,\n",
    "  \"objective\": \"reg:squarederror\",\n",
    "  \"subsample\": 0.9,\n",
    "  \"tree_method\": \"hist\",\n",
    "  \"device\": \"cuda\"\n",
    "}\n",
    "\n",
    "reg = xgb.XGBRFRegressor(**paramsRF)\n",
    "reg.fit(X_train, y_train,\n",
    "        eval_set=[(X_train, y_train), (X_test, y_test)],\n",
    "        verbose=100)\n"
   ]
  },
  {
   "cell_type": "markdown",
   "metadata": {},
   "source": [
    "# Feature importance"
   ]
  },
  {
   "cell_type": "code",
   "execution_count": null,
   "metadata": {},
   "outputs": [],
   "source": [
    "fi = pd.DataFrame(data=reg.feature_importances_,\n",
    "             index=reg.feature_names_in_,\n",
    "             columns=[\"importance\"])\n"
   ]
  },
  {
   "cell_type": "code",
   "execution_count": null,
   "metadata": {},
   "outputs": [],
   "source": [
    "fi.sort_values('importance').plot(kind='barh', title=\"Feature importance\")\n",
    "plt.show()"
   ]
  },
  {
   "cell_type": "code",
   "execution_count": null,
   "metadata": {},
   "outputs": [],
   "source": [
    "test['prediction']=reg.predict(X_test)\n",
    "df= df.merge(test[['prediction']],how='left',left_index=True,right_index=True)"
   ]
  },
  {
   "cell_type": "code",
   "execution_count": null,
   "metadata": {},
   "outputs": [],
   "source": [
    "plot_tree(reg)\n",
    "fig = plt.gcf()\n",
    "fig.set_size_inches(160, 600)\n",
    "#fig.savefig('tree.png')\n",
    "plt.show()"
   ]
  },
  {
   "cell_type": "markdown",
   "metadata": {},
   "source": [
    "# Prediction"
   ]
  },
  {
   "cell_type": "code",
   "execution_count": null,
   "metadata": {},
   "outputs": [],
   "source": [
    "ax = df[['oxygenValue']].plot(figsize=(20,10))\n",
    "df['prediction'].plot(ax=ax,style='.')\n",
    "plt.legend()\n",
    "ax.set_title('Raw data and predictions')\n",
    "plt.show()"
   ]
  },
  {
   "cell_type": "code",
   "execution_count": null,
   "metadata": {},
   "outputs": [],
   "source": [
    "day = df.loc[(df.index > '2021-11-05') & (df.index < '2021-11-06')]\n",
    "\n",
    "plt.figure(figsize=(20,10))\n",
    "plt.title(\"Oxygen values over a day\")\n",
    "plt.plot(day.index,day['oxygenValue'])\n",
    "plt.plot(day.index,day['prediction'])\n",
    "plt.xlabel('Hours of the day')\n",
    "plt.ylabel('Oxygen values')\n",
    "plt.legend([\"Oxygen\"])"
   ]
  },
  {
   "cell_type": "code",
   "execution_count": null,
   "metadata": {},
   "outputs": [],
   "source": [
    "print(f\"The model's Root Mean Squared Error: {root_mean_squared_error(test['oxygenValue'],test['prediction'])}\")"
   ]
  }
 ],
 "metadata": {
  "kernelspec": {
   "display_name": "Python 3",
   "language": "python",
   "name": "python3"
  },
  "language_info": {
   "codemirror_mode": {
    "name": "ipython",
    "version": 3
   },
   "file_extension": ".py",
   "mimetype": "text/x-python",
   "name": "python",
   "nbconvert_exporter": "python",
   "pygments_lexer": "ipython3",
   "version": "3.12.3"
  }
 },
 "nbformat": 4,
 "nbformat_minor": 2
}
