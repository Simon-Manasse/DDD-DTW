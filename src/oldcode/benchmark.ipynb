{
 "cells": [
  {
   "cell_type": "code",
   "execution_count": null,
   "metadata": {},
   "outputs": [],
   "source": [
    "import pandas as pd\n",
    "import matplotlib.pyplot as plt\n",
    "from sklearn.model_selection import train_test_split\n",
    "from sklearn.metrics import mean_squared_error\n",
    "from sklearn.metrics import mean_absolute_error\n",
    "from sklearn.metrics import root_mean_squared_error\n",
    "from sklearn.metrics import r2_score\n",
    "from sklearn.metrics import accuracy_score\n",
    "import seaborn as sns"
   ]
  },
  {
   "cell_type": "code",
   "execution_count": null,
   "metadata": {},
   "outputs": [],
   "source": [
    "df = pd.read_parquet('../data/cleanedData/allData.parquet')\n",
    "sns.heatmap(df.corr(), annot=True, cmap='viridis', fmt=\".2f\")\n",
    "plt.title('Correlation Matrix without randomness')\n",
    "plt.show()\n",
    "target = df.pop('oxygenValue')\n",
    "df.drop(columns=['measurementDate'])\n",
    "features = df\n",
    "x_train, x_test, y_train, y_test = train_test_split(features,target, test_size=0.25, random_state=42)\n",
    "df['measurementDate'].describe()"
   ]
  },
  {
   "cell_type": "code",
   "execution_count": null,
   "metadata": {},
   "outputs": [],
   "source": [
    "plt.scatter(df['ammoniumValue'].head(20000),target.head(20000))\n",
    "plt.ylabel('oxygen values (mg/l)')\n",
    "plt.xlabel('ammonium values (mg/l)')\n",
    "plt.title(\"scatter plot of ammonium and oxygen values\")\n",
    "plt.show()"
   ]
  },
  {
   "cell_type": "code",
   "execution_count": null,
   "metadata": {},
   "outputs": [],
   "source": [
    "plt.scatter(df['nitrateValue'].head(3000),target.head(3000))"
   ]
  },
  {
   "cell_type": "code",
   "execution_count": null,
   "metadata": {},
   "outputs": [],
   "source": [
    "# plt.scatter(df['phosphateValue'].head(3000),target.head(3000))"
   ]
  },
  {
   "cell_type": "code",
   "execution_count": null,
   "metadata": {},
   "outputs": [],
   "source": [
    "plt.scatter(df['precipitation'].head(3000),target.head(3000))"
   ]
  },
  {
   "cell_type": "code",
   "execution_count": null,
   "metadata": {},
   "outputs": [],
   "source": []
  },
  {
   "cell_type": "code",
   "execution_count": null,
   "metadata": {},
   "outputs": [],
   "source": [
    "# plt.figure(figsize=(30,20))\n",
    "# plt.scatter(target.head(50000), df['ammoniumValue'].head(50000), label=\"Oxygen vs Ammonia\")\n",
    "# plt.scatter(target.head(50000), df['phosphateValue'].head(50000), label=\"Oxygen vs Phosphate\")\n",
    "# plt.scatter(target.head(50000), df['nitrateValue'].head(50000), label=\"Oxygen vs Nitrate\")\n",
    "\n",
    "# # Add labels and title\n",
    "# plt.xlabel(\"Oxygen\")\n",
    "# plt.ylabel(\"Value\")\n",
    "# plt.title(\"Scatter Plot of Oxygen vs Other Factors\")\n",
    "\n",
    "# # Add legend\n",
    "# plt.legend()\n",
    "\n",
    "# # Display the plot\n",
    "# plt.show()"
   ]
  },
  {
   "cell_type": "code",
   "execution_count": null,
   "metadata": {},
   "outputs": [],
   "source": [
    "value = y_train.mean()"
   ]
  },
  {
   "cell_type": "code",
   "execution_count": null,
   "metadata": {},
   "outputs": [],
   "source": [
    "pred_train = [value]* len(y_train)\n",
    "pred_test = [value]* len(y_test)"
   ]
  },
  {
   "cell_type": "code",
   "execution_count": null,
   "metadata": {},
   "outputs": [],
   "source": [
    "root_mean_squared_error(y_train,pred_train)"
   ]
  },
  {
   "cell_type": "code",
   "execution_count": null,
   "metadata": {},
   "outputs": [],
   "source": [
    "root_mean_squared_error(y_test, pred_test)"
   ]
  },
  {
   "cell_type": "code",
   "execution_count": null,
   "metadata": {},
   "outputs": [],
   "source": [
    "mean_absolute_error(y_test,pred_test)"
   ]
  },
  {
   "cell_type": "code",
   "execution_count": null,
   "metadata": {},
   "outputs": [],
   "source": [
    "mean_absolute_error(y_train,pred_train)"
   ]
  },
  {
   "cell_type": "code",
   "execution_count": null,
   "metadata": {},
   "outputs": [],
   "source": [
    "r2_score(y_test[0:len(pred_test)],pred_test)"
   ]
  },
  {
   "cell_type": "code",
   "execution_count": null,
   "metadata": {},
   "outputs": [],
   "source": [
    "r2_score(y_test,pred_test)"
   ]
  },
  {
   "cell_type": "code",
   "execution_count": null,
   "metadata": {},
   "outputs": [],
   "source": [
    "pred_train"
   ]
  },
  {
   "cell_type": "code",
   "execution_count": null,
   "metadata": {},
   "outputs": [],
   "source": [
    "target[327106]"
   ]
  },
  {
   "cell_type": "code",
   "execution_count": null,
   "metadata": {},
   "outputs": [],
   "source": [
    "plt.figure(figsize=(8,6))\n",
    "plt.scatter(y_test,pred_test)\n",
    "plt.xlabel('Actual oxygen')\n",
    "plt.ylabel('predicted oxigen')\n",
    "plt.title('Actual value compared to the predicted value')\n",
    "plt.show()"
   ]
  },
  {
   "cell_type": "code",
   "execution_count": null,
   "metadata": {},
   "outputs": [],
   "source": [
    "df = pd.read_parquet('../data/cleanedData/allData.parquet')\n",
    "df.pop('measurementDate')\n",
    "df.pop('waterFlowPerMinute')\n",
    "\n",
    "\n",
    "\n",
    "  \n",
    "\n",
    "target = df.pop('oxygenValue')\n",
    "features = df\n",
    "  \n",
    "\n",
    "x_train, x_test, y_train, y_test = train_test_split(features, target, test_size=0.25, random_state=42)\n",
    "\n",
    "from sklearn.linear_model import LinearRegression\n",
    "\n",
    "model = LinearRegression()\n",
    "\n",
    "model.fit(x_train, y_train)\n",
    "\n",
    "predictions = model.predict(x_test)\n",
    "\n",
    "  \n",
    "\n",
    "from sklearn.metrics import mean_squared_error\n",
    "\n",
    "mse = mean_squared_error(y_test, predictions)\n",
    "\n",
    "print(\"Mean Squared Error:\", mse)\n",
    "\n",
    "print(\"Coefficients:\", model.coef_)\n",
    "\n",
    "print(\"Intercept:\", model.intercept_)\n",
    "\n",
    "plt.figure(figsize=(20, 10))\n",
    "\n",
    "plt.scatter(y_test, predictions, color='blue', label='Actual vs Predicted', s=0.1)\n",
    "\n",
    "plt.plot([min(y_test), max(y_test)], [min(y_test), max(y_test)], color='red', linestyle='--', label='Ideal Prediction')\n",
    "\n",
    "plt.xlabel('Actual Values')\n",
    "\n",
    "plt.ylabel('Predicted Values')\n",
    "\n",
    "plt.title('Actual vs Predicted Oxygen Values')\n",
    "\n",
    "plt.legend()\n",
    "\n",
    "plt.show()\n",
    "\n",
    "r2 = r2_score(y_test, predictions)\n",
    "\n",
    "print(\"R-squared Score:\", r2)"
   ]
  },
  {
   "cell_type": "code",
   "execution_count": null,
   "metadata": {},
   "outputs": [],
   "source": [
    "df = pd.read_parquet('../data/cleanedData/allData.parquet')\n",
    "sns.heatmap(df.corr(), annot=True, cmap='viridis', fmt=\".2f\")\n",
    "plt.title('Correlation Matrix without randomness')\n",
    "plt.show()"
   ]
  }
 ],
 "metadata": {
  "kernelspec": {
   "display_name": "Python 3",
   "language": "python",
   "name": "python3"
  },
  "language_info": {
   "codemirror_mode": {
    "name": "ipython",
    "version": 3
   },
   "file_extension": ".py",
   "mimetype": "text/x-python",
   "name": "python",
   "nbconvert_exporter": "python",
   "pygments_lexer": "ipython3",
   "version": "3.12.3"
  }
 },
 "nbformat": 4,
 "nbformat_minor": 2
}
