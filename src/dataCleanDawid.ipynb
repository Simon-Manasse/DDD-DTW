{
 "cells": [
  {
   "cell_type": "code",
   "execution_count": 1,
   "metadata": {},
   "outputs": [],
   "source": [
    "import pandas as pd\n",
    "import matplotlib.pyplot as plt\n"
   ]
  },
  {
   "cell_type": "code",
   "execution_count": 2,
   "metadata": {},
   "outputs": [],
   "source": [
    "import pandas as pd\n",
    "\n",
    "def read_water_data():\n",
    "  data = {}\n",
    "  data[\"Ammonium\"] = pd.read_parquet(\"../data/Ammonium_measurements.parquet\")\n",
    "  data[\"Nitrate\"] = pd.read_parquet(\"../data/Nitrate_measurements.parquet\")\n",
    "  data[\"Oxygen_A\"] = pd.read_parquet(\"../data/Oxygen_A.parquet\")\n",
    "  data[\"Oxygen_B\"] = pd.read_parquet(\"../data/Oxygen_B.parquet\")\n",
    "  data[\"Phosphate\"] = pd.read_parquet(\"../data/Phosphate_measurements.parquet\")\n",
    "\n",
    "  for element, df in data.items():\n",
    "    df.rename(columns={\n",
    "        \"historianTagnummer\": \"Element\",\n",
    "        \"hstWaarde\": \"Amount\",\n",
    "        \"datumBeginMeting\": \"EntryDate\",\n",
    "        \"datumEindeMeting\": \"EndDate\"\n",
    "    }, inplace=True)\n",
    "    df[\"Element\"] = df[\"Element\"].replace(f\"EDE_B12106991{element[1]}_K600.MTW\", element.lower())\n",
    "    df = df.astype({\n",
    "        \"Element\": \"string\",\n",
    "        \"Amount\": \"float\",\n",
    "        \"EntryDate\": \"datetime64[ns]\",\n",
    "        \"EndDate\": \"datetime64[ns]\"\n",
    "    })\n",
    "  \n",
    "  for df in data.values():\n",
    "    df = df.reset_index(drop=True)\n",
    "\n",
    "  return data"
   ]
  },
  {
   "cell_type": "code",
   "execution_count": 3,
   "metadata": {},
   "outputs": [],
   "source": [
    "water_data = read_water_data()\n",
    "Ammo = water_data['Ammonium']\n",
    "OxyA = water_data['Oxygen_A']\n",
    "OxyB = water_data['Oxygen_B']\n",
    "Nitr = water_data['Nitrate']\n",
    "Phosp = water_data['Phosphate']"
   ]
  }
 ],
 "metadata": {
  "kernelspec": {
   "display_name": "base",
   "language": "python",
   "name": "python3"
  },
  "language_info": {
   "codemirror_mode": {
    "name": "ipython",
    "version": 3
   },
   "file_extension": ".py",
   "mimetype": "text/x-python",
   "name": "python",
   "nbconvert_exporter": "python",
   "pygments_lexer": "ipython3",
   "version": "3.11.8"
  }
 },
 "nbformat": 4,
 "nbformat_minor": 2
}
