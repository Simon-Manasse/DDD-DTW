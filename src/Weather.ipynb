{
 "cells": [
  {
   "cell_type": "code",
   "execution_count": 53,
   "metadata": {},
   "outputs": [],
   "source": [
    "from netCDF4 import Dataset"
   ]
  },
  {
   "cell_type": "code",
   "execution_count": 54,
   "metadata": {},
   "outputs": [
    {
     "data": {
      "text/plain": [
       "<class 'netCDF4._netCDF4.Dataset'>\n",
       "root group (NETCDF4 data model, file format HDF5):\n",
       "    Conventions: CF-1.5\n",
       "    history: Metadata adjusted by ADAGUC from KNMIHDF5 to NetCDF-CF\n",
       "    dimensions(sizes): y(765), x(700), time(1)\n",
       "    variables(dimensions): float64 y(y), float64 x(x), float64 time(time), |S1 geographic(), |S1 image1_calibration(), uint16 image1_image_data(time, y, x), |S1 overview(), |S1 radar1(), |S1 radar2(), |S1 radar3(), |S1 product(), |S1 iso_dataset(), |S1 projection()\n",
       "    groups: "
      ]
     },
     "execution_count": 54,
     "metadata": {},
     "output_type": "execute_result"
    }
   ],
   "source": [
    "data = Dataset('../data/weather.nc')\n",
    "data"
   ]
  },
  {
   "cell_type": "code",
   "execution_count": 55,
   "metadata": {},
   "outputs": [
    {
     "data": {
      "text/plain": [
       "<class 'netCDF4._netCDF4.Variable'>\n",
       "|S1 overview()\n",
       "    products_missing: NA\n",
       "    hdftag_version_number: 3.5\n",
       "    number_satellite_groups: 0\n",
       "    number_radar_groups: 3\n",
       "    number_station_groups: 0\n",
       "    product_version: 2\n",
       "    product_datetime_start: 01-JAN-2024;00:00:00.000\n",
       "    product_datetime_end: 01-JAN-2024;01:00:00.000\n",
       "    number_image_groups: 1\n",
       "    product_group_name: RAD_NL25_RAC_MFBS_01H\n",
       "    long_name: Date time description\n",
       "unlimited dimensions: \n",
       "current shape = ()\n",
       "filling on, default _FillValue of \u0000 used"
      ]
     },
     "execution_count": 55,
     "metadata": {},
     "output_type": "execute_result"
    }
   ],
   "source": [
    "data.variables['overview']"
   ]
  }
 ],
 "metadata": {
  "kernelspec": {
   "display_name": "Python 3",
   "language": "python",
   "name": "python3"
  },
  "language_info": {
   "codemirror_mode": {
    "name": "ipython",
    "version": 3
   },
   "file_extension": ".py",
   "mimetype": "text/x-python",
   "name": "python",
   "nbconvert_exporter": "python",
   "pygments_lexer": "ipython3",
   "version": "3.11.8"
  }
 },
 "nbformat": 4,
 "nbformat_minor": 2
}
