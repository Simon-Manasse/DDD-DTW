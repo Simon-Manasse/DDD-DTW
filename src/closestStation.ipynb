{
 "cells": [
  {
   "cell_type": "code",
   "execution_count": null,
   "metadata": {},
   "outputs": [],
   "source": [
    "import knmi\n",
    "for index in knmi.stations:\n",
    "    station = knmi.stations[index]\n",
    "    if( (station.latitude < 52.5 and station.latitude > 51) and (station.longitude < 5.8 and station.longitude >5.7)): print(station)"
   ]
  }
 ],
 "metadata": {
  "kernelspec": {
   "display_name": "schoolPrograming",
   "language": "python",
   "name": "python3"
  },
  "language_info": {
   "codemirror_mode": {
    "name": "ipython",
    "version": 3
   },
   "file_extension": ".py",
   "mimetype": "text/x-python",
   "name": "python",
   "nbconvert_exporter": "python",
   "pygments_lexer": "ipython3",
   "version": "3.11.5"
  }
 },
 "nbformat": 4,
 "nbformat_minor": 2
}
